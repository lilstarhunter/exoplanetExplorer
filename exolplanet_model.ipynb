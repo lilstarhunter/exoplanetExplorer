{
 "cells": [
  {
   "cell_type": "markdown",
   "metadata": {},
   "source": [
    "# Exoplanet Prediction Modeling\n",
    "\n",
    "Over a period of nine years in deep space, the NASA Kepler space telescope has been out on a planet-hunting mission to discover hidden planets outside of our solar system.\n",
    "\n",
    "Below are several machine learning models capable of classifying candidate exoplanets from the raw dataset\n",
    "\n",
    "Data from [NASA Exoplanet Archive](https://exoplanetarchive.ipac.caltech.edu/cgi-bin/TblView/nph-tblView?app=ExoTbls&config=koi)"
   ]
  },
  {
   "cell_type": "code",
   "execution_count": 1,
   "metadata": {
    "scrolled": true
   },
   "outputs": [
    {
     "name": "stdout",
     "output_type": "stream",
     "text": [
      "Requirement already up-to-date: sklearn in /opt/anaconda3/envs/PythonAdv/lib/python3.6/site-packages (0.0)\r\n",
      "Requirement already satisfied, skipping upgrade: scikit-learn in /opt/anaconda3/envs/PythonAdv/lib/python3.6/site-packages (from sklearn) (0.23.1)\r\n",
      "Requirement already satisfied, skipping upgrade: scipy>=0.19.1 in /opt/anaconda3/envs/PythonAdv/lib/python3.6/site-packages (from scikit-learn->sklearn) (1.5.0)\r\n",
      "Requirement already satisfied, skipping upgrade: joblib>=0.11 in /opt/anaconda3/envs/PythonAdv/lib/python3.6/site-packages (from scikit-learn->sklearn) (0.15.1)\r\n",
      "Requirement already satisfied, skipping upgrade: numpy>=1.13.3 in /opt/anaconda3/envs/PythonAdv/lib/python3.6/site-packages (from scikit-learn->sklearn) (1.18.5)\r\n",
      "Requirement already satisfied, skipping upgrade: threadpoolctl>=2.0.0 in /opt/anaconda3/envs/PythonAdv/lib/python3.6/site-packages (from scikit-learn->sklearn) (2.1.0)\r\n"
     ]
    }
   ],
   "source": [
    "# Update sklearn to prevent version mismatches\n",
    "!pip install sklearn --upgrade"
   ]
  },
  {
   "cell_type": "code",
   "execution_count": 2,
   "metadata": {
    "scrolled": true
   },
   "outputs": [
    {
     "name": "stdout",
     "output_type": "stream",
     "text": [
      "Requirement already satisfied: joblib in /opt/anaconda3/envs/PythonAdv/lib/python3.6/site-packages (0.15.1)\r\n"
     ]
    }
   ],
   "source": [
    "# install joblib for saving\n",
    "# Restart kernel after installing \n",
    "!pip install joblib"
   ]
  },
  {
   "cell_type": "code",
   "execution_count": 3,
   "metadata": {},
   "outputs": [],
   "source": [
    "import pandas as pd\n",
    "from pprint import pprint\n",
    "import numpy as np"
   ]
  },
  {
   "cell_type": "markdown",
   "metadata": {},
   "source": [
    "## Exploring and Selecting the Data\n",
    "\n",
    "This dataset is a cumulative record of all observed Kepler \"objects of interest\" and contains an extensive data directory. \n",
    "\n",
    "**Exoplanet Achive Information**: The disposition or label in the literature for the exoplanet candidate. One of CANDIDATE, FALSE POSITIVE, NOT DISPOSITIONED or CONFIRMED. (**koi_disposition**)\n",
    "\n",
    "**Project Disposition Columns**: NASA flags used to identify or assign the foreign body. Labeled with _flag_ and not useful for generating a model.\n",
    "\n",
    "**Transit Properties**: Calculated parameters of the object such as  Orbital Period, Transit Epoch, Planet-Star Radius Ratio, Planet-Star Distance over Star Radius and Impact Parameter. _Transit properties contain uncertainty values and are identified with a suffix _err. The margin of error is NOT included in the model_\n",
    "\n",
    "**Stellar Parameters**: Stellar parameters are observational data used to determine stellar physics. These include effective temperature, surface gravity, metallicity, radius, mass, and ageCalculated parameters of the object such as  Orbital Period, Transit Epoch, Planet-Star Radius Ratio, Planet-Star Distance over Star Radius and Impact Parameter. _Stellar properties contain uncertainty values and are identified with a suffix _err. The margin of error is NOT included in the model_\n",
    "\n",
    "**KIC Parameters**: Physical properties and target identifier.\n",
    "\n",
    "[Full Directory of Data Columns Definitions](https://exoplanetarchive.ipac.caltech.edu/docs/API_kepcandidate_columns.html)\n"
   ]
  },
  {
   "cell_type": "markdown",
   "metadata": {},
   "source": [
    "### Read the CSV and Perform Basic Data Cleaning"
   ]
  },
  {
   "cell_type": "code",
   "execution_count": 4,
   "metadata": {
    "scrolled": true
   },
   "outputs": [
    {
     "data": {
      "text/plain": [
       "Index(['koi_disposition', 'koi_fpflag_nt', 'koi_fpflag_ss', 'koi_fpflag_co',\n",
       "       'koi_fpflag_ec', 'koi_period', 'koi_period_err1', 'koi_period_err2',\n",
       "       'koi_time0bk', 'koi_time0bk_err1', 'koi_time0bk_err2', 'koi_impact',\n",
       "       'koi_impact_err1', 'koi_impact_err2', 'koi_duration',\n",
       "       'koi_duration_err1', 'koi_duration_err2', 'koi_depth', 'koi_depth_err1',\n",
       "       'koi_depth_err2', 'koi_prad', 'koi_prad_err1', 'koi_prad_err2',\n",
       "       'koi_teq', 'koi_insol', 'koi_insol_err1', 'koi_insol_err2',\n",
       "       'koi_model_snr', 'koi_tce_plnt_num', 'koi_steff', 'koi_steff_err1',\n",
       "       'koi_steff_err2', 'koi_slogg', 'koi_slogg_err1', 'koi_slogg_err2',\n",
       "       'koi_srad', 'koi_srad_err1', 'koi_srad_err2', 'ra', 'dec',\n",
       "       'koi_kepmag'],\n",
       "      dtype='object')"
      ]
     },
     "execution_count": 4,
     "metadata": {},
     "output_type": "execute_result"
    }
   ],
   "source": [
    "df = pd.read_csv(\"exoplanet_data.csv\")\n",
    "\n",
    "# Drop the null columns where all values are null\n",
    "df = df.dropna(axis='columns', how='all')\n",
    "\n",
    "# Drop the null rows\n",
    "df = df.dropna()\n",
    "df.columns"
   ]
  },
  {
   "cell_type": "code",
   "execution_count": 5,
   "metadata": {},
   "outputs": [
    {
     "data": {
      "text/html": [
       "<div>\n",
       "<style scoped>\n",
       "    .dataframe tbody tr th:only-of-type {\n",
       "        vertical-align: middle;\n",
       "    }\n",
       "\n",
       "    .dataframe tbody tr th {\n",
       "        vertical-align: top;\n",
       "    }\n",
       "\n",
       "    .dataframe thead th {\n",
       "        text-align: right;\n",
       "    }\n",
       "</style>\n",
       "<table border=\"1\" class=\"dataframe\">\n",
       "  <thead>\n",
       "    <tr style=\"text-align: right;\">\n",
       "      <th></th>\n",
       "      <th>koi_fpflag_nt</th>\n",
       "      <th>koi_fpflag_ss</th>\n",
       "      <th>koi_fpflag_co</th>\n",
       "      <th>koi_fpflag_ec</th>\n",
       "      <th>koi_period</th>\n",
       "      <th>koi_time0bk</th>\n",
       "      <th>koi_impact</th>\n",
       "      <th>koi_duration</th>\n",
       "      <th>koi_depth</th>\n",
       "      <th>koi_prad</th>\n",
       "      <th>koi_teq</th>\n",
       "      <th>koi_insol</th>\n",
       "      <th>koi_model_snr</th>\n",
       "      <th>koi_steff</th>\n",
       "      <th>koi_srad</th>\n",
       "      <th>ra</th>\n",
       "      <th>dec</th>\n",
       "      <th>koi_kepmag</th>\n",
       "    </tr>\n",
       "  </thead>\n",
       "  <tbody>\n",
       "    <tr>\n",
       "      <th>0</th>\n",
       "      <td>0</td>\n",
       "      <td>0</td>\n",
       "      <td>0</td>\n",
       "      <td>0</td>\n",
       "      <td>54.418383</td>\n",
       "      <td>162.513840</td>\n",
       "      <td>0.586</td>\n",
       "      <td>4.50700</td>\n",
       "      <td>874.8</td>\n",
       "      <td>2.83</td>\n",
       "      <td>443</td>\n",
       "      <td>9.11</td>\n",
       "      <td>25.8</td>\n",
       "      <td>5455</td>\n",
       "      <td>0.927</td>\n",
       "      <td>291.93423</td>\n",
       "      <td>48.141651</td>\n",
       "      <td>15.347</td>\n",
       "    </tr>\n",
       "    <tr>\n",
       "      <th>1</th>\n",
       "      <td>0</td>\n",
       "      <td>1</td>\n",
       "      <td>0</td>\n",
       "      <td>0</td>\n",
       "      <td>19.899140</td>\n",
       "      <td>175.850252</td>\n",
       "      <td>0.969</td>\n",
       "      <td>1.78220</td>\n",
       "      <td>10829.0</td>\n",
       "      <td>14.60</td>\n",
       "      <td>638</td>\n",
       "      <td>39.30</td>\n",
       "      <td>76.3</td>\n",
       "      <td>5853</td>\n",
       "      <td>0.868</td>\n",
       "      <td>297.00482</td>\n",
       "      <td>48.134129</td>\n",
       "      <td>15.436</td>\n",
       "    </tr>\n",
       "    <tr>\n",
       "      <th>2</th>\n",
       "      <td>0</td>\n",
       "      <td>1</td>\n",
       "      <td>0</td>\n",
       "      <td>0</td>\n",
       "      <td>1.736952</td>\n",
       "      <td>170.307565</td>\n",
       "      <td>1.276</td>\n",
       "      <td>2.40641</td>\n",
       "      <td>8079.2</td>\n",
       "      <td>33.46</td>\n",
       "      <td>1395</td>\n",
       "      <td>891.96</td>\n",
       "      <td>505.6</td>\n",
       "      <td>5805</td>\n",
       "      <td>0.791</td>\n",
       "      <td>285.53461</td>\n",
       "      <td>48.285210</td>\n",
       "      <td>15.597</td>\n",
       "    </tr>\n",
       "    <tr>\n",
       "      <th>3</th>\n",
       "      <td>0</td>\n",
       "      <td>0</td>\n",
       "      <td>0</td>\n",
       "      <td>0</td>\n",
       "      <td>2.525592</td>\n",
       "      <td>171.595550</td>\n",
       "      <td>0.701</td>\n",
       "      <td>1.65450</td>\n",
       "      <td>603.3</td>\n",
       "      <td>2.75</td>\n",
       "      <td>1406</td>\n",
       "      <td>926.16</td>\n",
       "      <td>40.9</td>\n",
       "      <td>6031</td>\n",
       "      <td>1.046</td>\n",
       "      <td>288.75488</td>\n",
       "      <td>48.226200</td>\n",
       "      <td>15.509</td>\n",
       "    </tr>\n",
       "    <tr>\n",
       "      <th>4</th>\n",
       "      <td>0</td>\n",
       "      <td>0</td>\n",
       "      <td>0</td>\n",
       "      <td>0</td>\n",
       "      <td>4.134435</td>\n",
       "      <td>172.979370</td>\n",
       "      <td>0.762</td>\n",
       "      <td>3.14020</td>\n",
       "      <td>686.0</td>\n",
       "      <td>2.77</td>\n",
       "      <td>1160</td>\n",
       "      <td>427.65</td>\n",
       "      <td>40.2</td>\n",
       "      <td>6046</td>\n",
       "      <td>0.972</td>\n",
       "      <td>296.28613</td>\n",
       "      <td>48.224670</td>\n",
       "      <td>15.714</td>\n",
       "    </tr>\n",
       "  </tbody>\n",
       "</table>\n",
       "</div>"
      ],
      "text/plain": [
       "   koi_fpflag_nt  koi_fpflag_ss  koi_fpflag_co  koi_fpflag_ec  koi_period  \\\n",
       "0              0              0              0              0   54.418383   \n",
       "1              0              1              0              0   19.899140   \n",
       "2              0              1              0              0    1.736952   \n",
       "3              0              0              0              0    2.525592   \n",
       "4              0              0              0              0    4.134435   \n",
       "\n",
       "   koi_time0bk  koi_impact  koi_duration  koi_depth  koi_prad  koi_teq  \\\n",
       "0   162.513840       0.586       4.50700      874.8      2.83      443   \n",
       "1   175.850252       0.969       1.78220    10829.0     14.60      638   \n",
       "2   170.307565       1.276       2.40641     8079.2     33.46     1395   \n",
       "3   171.595550       0.701       1.65450      603.3      2.75     1406   \n",
       "4   172.979370       0.762       3.14020      686.0      2.77     1160   \n",
       "\n",
       "   koi_insol  koi_model_snr  koi_steff  koi_srad         ra        dec  \\\n",
       "0       9.11           25.8       5455     0.927  291.93423  48.141651   \n",
       "1      39.30           76.3       5853     0.868  297.00482  48.134129   \n",
       "2     891.96          505.6       5805     0.791  285.53461  48.285210   \n",
       "3     926.16           40.9       6031     1.046  288.75488  48.226200   \n",
       "4     427.65           40.2       6046     0.972  296.28613  48.224670   \n",
       "\n",
       "   koi_kepmag  \n",
       "0      15.347  \n",
       "1      15.436  \n",
       "2      15.597  \n",
       "3      15.509  \n",
       "4      15.714  "
      ]
     },
     "execution_count": 5,
     "metadata": {},
     "output_type": "execute_result"
    }
   ],
   "source": [
    "# Removing unwanted columns from dataset\n",
    "exo_df = df[['koi_fpflag_nt', 'koi_fpflag_ss', 'koi_fpflag_co',\n",
    "       'koi_fpflag_ec', 'koi_period', 'koi_time0bk', 'koi_impact','koi_duration', 'koi_depth', 'koi_prad', 'koi_teq', 'koi_insol','koi_model_snr', 'koi_steff', 'koi_srad','ra', 'dec',\n",
    "       'koi_kepmag']]\n",
    "exo_df.head()"
   ]
  },
  {
   "cell_type": "code",
   "execution_count": 6,
   "metadata": {},
   "outputs": [
    {
     "data": {
      "text/plain": [
       "array(['CONFIRMED', 'FALSE POSITIVE', 'CANDIDATE'], dtype=object)"
      ]
     },
     "execution_count": 6,
     "metadata": {},
     "output_type": "execute_result"
    }
   ],
   "source": [
    "# Find the classifiers for the koi_disposition\n",
    "df[\"koi_disposition\"].unique()"
   ]
  },
  {
   "cell_type": "markdown",
   "metadata": {},
   "source": [
    "# Preprocessing the Data"
   ]
  },
  {
   "cell_type": "markdown",
   "metadata": {},
   "source": [
    "### Assign X(features) and y (target) from the data"
   ]
  },
  {
   "cell_type": "code",
   "execution_count": 7,
   "metadata": {},
   "outputs": [
    {
     "name": "stdout",
     "output_type": "stream",
     "text": [
      "(6991, 18) (6991,)\n"
     ]
    }
   ],
   "source": [
    "X = exo_df\n",
    "y = df[\"koi_disposition\"]\n",
    "print(X.shape, y.shape)"
   ]
  },
  {
   "cell_type": "markdown",
   "metadata": {},
   "source": [
    "### Split the data into testing and training"
   ]
  },
  {
   "cell_type": "code",
   "execution_count": 8,
   "metadata": {
    "scrolled": false
   },
   "outputs": [
    {
     "data": {
      "text/html": [
       "<div>\n",
       "<style scoped>\n",
       "    .dataframe tbody tr th:only-of-type {\n",
       "        vertical-align: middle;\n",
       "    }\n",
       "\n",
       "    .dataframe tbody tr th {\n",
       "        vertical-align: top;\n",
       "    }\n",
       "\n",
       "    .dataframe thead th {\n",
       "        text-align: right;\n",
       "    }\n",
       "</style>\n",
       "<table border=\"1\" class=\"dataframe\">\n",
       "  <thead>\n",
       "    <tr style=\"text-align: right;\">\n",
       "      <th></th>\n",
       "      <th>koi_fpflag_nt</th>\n",
       "      <th>koi_fpflag_ss</th>\n",
       "      <th>koi_fpflag_co</th>\n",
       "      <th>koi_fpflag_ec</th>\n",
       "      <th>koi_period</th>\n",
       "      <th>koi_time0bk</th>\n",
       "      <th>koi_impact</th>\n",
       "      <th>koi_duration</th>\n",
       "      <th>koi_depth</th>\n",
       "      <th>koi_prad</th>\n",
       "      <th>koi_teq</th>\n",
       "      <th>koi_insol</th>\n",
       "      <th>koi_model_snr</th>\n",
       "      <th>koi_steff</th>\n",
       "      <th>koi_srad</th>\n",
       "      <th>ra</th>\n",
       "      <th>dec</th>\n",
       "      <th>koi_kepmag</th>\n",
       "    </tr>\n",
       "  </thead>\n",
       "  <tbody>\n",
       "    <tr>\n",
       "      <th>6122</th>\n",
       "      <td>0</td>\n",
       "      <td>0</td>\n",
       "      <td>0</td>\n",
       "      <td>0</td>\n",
       "      <td>6.768901</td>\n",
       "      <td>133.077240</td>\n",
       "      <td>0.150</td>\n",
       "      <td>3.61600</td>\n",
       "      <td>123.1</td>\n",
       "      <td>1.24</td>\n",
       "      <td>1017</td>\n",
       "      <td>253.30</td>\n",
       "      <td>10.8</td>\n",
       "      <td>5737</td>\n",
       "      <td>1.125</td>\n",
       "      <td>294.40472</td>\n",
       "      <td>39.351681</td>\n",
       "      <td>14.725</td>\n",
       "    </tr>\n",
       "    <tr>\n",
       "      <th>6370</th>\n",
       "      <td>0</td>\n",
       "      <td>1</td>\n",
       "      <td>0</td>\n",
       "      <td>1</td>\n",
       "      <td>0.733726</td>\n",
       "      <td>132.020050</td>\n",
       "      <td>0.291</td>\n",
       "      <td>2.30900</td>\n",
       "      <td>114.6</td>\n",
       "      <td>0.86</td>\n",
       "      <td>1867</td>\n",
       "      <td>2891.64</td>\n",
       "      <td>13.8</td>\n",
       "      <td>5855</td>\n",
       "      <td>0.797</td>\n",
       "      <td>284.50391</td>\n",
       "      <td>42.463860</td>\n",
       "      <td>15.770</td>\n",
       "    </tr>\n",
       "    <tr>\n",
       "      <th>2879</th>\n",
       "      <td>1</td>\n",
       "      <td>0</td>\n",
       "      <td>0</td>\n",
       "      <td>0</td>\n",
       "      <td>7.652707</td>\n",
       "      <td>134.460380</td>\n",
       "      <td>0.970</td>\n",
       "      <td>79.89690</td>\n",
       "      <td>641.1</td>\n",
       "      <td>3.21</td>\n",
       "      <td>989</td>\n",
       "      <td>226.81</td>\n",
       "      <td>254.3</td>\n",
       "      <td>6328</td>\n",
       "      <td>0.963</td>\n",
       "      <td>295.50211</td>\n",
       "      <td>38.983540</td>\n",
       "      <td>13.099</td>\n",
       "    </tr>\n",
       "    <tr>\n",
       "      <th>107</th>\n",
       "      <td>0</td>\n",
       "      <td>0</td>\n",
       "      <td>0</td>\n",
       "      <td>0</td>\n",
       "      <td>7.953547</td>\n",
       "      <td>174.662240</td>\n",
       "      <td>0.300</td>\n",
       "      <td>2.63120</td>\n",
       "      <td>875.4</td>\n",
       "      <td>2.25</td>\n",
       "      <td>696</td>\n",
       "      <td>55.37</td>\n",
       "      <td>38.4</td>\n",
       "      <td>4768</td>\n",
       "      <td>0.779</td>\n",
       "      <td>291.15878</td>\n",
       "      <td>40.750271</td>\n",
       "      <td>15.660</td>\n",
       "    </tr>\n",
       "    <tr>\n",
       "      <th>29</th>\n",
       "      <td>0</td>\n",
       "      <td>0</td>\n",
       "      <td>0</td>\n",
       "      <td>0</td>\n",
       "      <td>4.959319</td>\n",
       "      <td>172.258529</td>\n",
       "      <td>0.831</td>\n",
       "      <td>2.22739</td>\n",
       "      <td>9802.0</td>\n",
       "      <td>12.21</td>\n",
       "      <td>1103</td>\n",
       "      <td>349.40</td>\n",
       "      <td>696.5</td>\n",
       "      <td>5712</td>\n",
       "      <td>1.082</td>\n",
       "      <td>292.16705</td>\n",
       "      <td>48.727589</td>\n",
       "      <td>15.263</td>\n",
       "    </tr>\n",
       "  </tbody>\n",
       "</table>\n",
       "</div>"
      ],
      "text/plain": [
       "      koi_fpflag_nt  koi_fpflag_ss  koi_fpflag_co  koi_fpflag_ec  koi_period  \\\n",
       "6122              0              0              0              0    6.768901   \n",
       "6370              0              1              0              1    0.733726   \n",
       "2879              1              0              0              0    7.652707   \n",
       "107               0              0              0              0    7.953547   \n",
       "29                0              0              0              0    4.959319   \n",
       "\n",
       "      koi_time0bk  koi_impact  koi_duration  koi_depth  koi_prad  koi_teq  \\\n",
       "6122   133.077240       0.150       3.61600      123.1      1.24     1017   \n",
       "6370   132.020050       0.291       2.30900      114.6      0.86     1867   \n",
       "2879   134.460380       0.970      79.89690      641.1      3.21      989   \n",
       "107    174.662240       0.300       2.63120      875.4      2.25      696   \n",
       "29     172.258529       0.831       2.22739     9802.0     12.21     1103   \n",
       "\n",
       "      koi_insol  koi_model_snr  koi_steff  koi_srad         ra        dec  \\\n",
       "6122     253.30           10.8       5737     1.125  294.40472  39.351681   \n",
       "6370    2891.64           13.8       5855     0.797  284.50391  42.463860   \n",
       "2879     226.81          254.3       6328     0.963  295.50211  38.983540   \n",
       "107       55.37           38.4       4768     0.779  291.15878  40.750271   \n",
       "29       349.40          696.5       5712     1.082  292.16705  48.727589   \n",
       "\n",
       "      koi_kepmag  \n",
       "6122      14.725  \n",
       "6370      15.770  \n",
       "2879      13.099  \n",
       "107       15.660  \n",
       "29        15.263  "
      ]
     },
     "execution_count": 8,
     "metadata": {},
     "output_type": "execute_result"
    }
   ],
   "source": [
    "from sklearn.model_selection import train_test_split\n",
    "X_train, X_test, y_train, y_test = train_test_split(X, y, random_state=42)\n",
    "X_train.head()"
   ]
  },
  {
   "cell_type": "markdown",
   "metadata": {},
   "source": [
    "### MinMaxScalar to fit and transform X features"
   ]
  },
  {
   "cell_type": "code",
   "execution_count": 9,
   "metadata": {},
   "outputs": [],
   "source": [
    "#Fit Transform using MinMaxScalar for X features\n",
    "from sklearn.preprocessing import MinMaxScaler\n",
    "X_minmax = MinMaxScaler().fit(X_train)\n",
    "\n",
    "X_train_minmax = X_minmax.transform(X_train)\n",
    "X_test_minmax = X_minmax.transform(X_test)"
   ]
  },
  {
   "cell_type": "markdown",
   "metadata": {},
   "source": [
    "### Label Encoding for target (y) value (neural networks)"
   ]
  },
  {
   "cell_type": "code",
   "execution_count": 10,
   "metadata": {},
   "outputs": [
    {
     "data": {
      "text/html": [
       "<div>\n",
       "<style scoped>\n",
       "    .dataframe tbody tr th:only-of-type {\n",
       "        vertical-align: middle;\n",
       "    }\n",
       "\n",
       "    .dataframe tbody tr th {\n",
       "        vertical-align: top;\n",
       "    }\n",
       "\n",
       "    .dataframe thead th {\n",
       "        text-align: right;\n",
       "    }\n",
       "</style>\n",
       "<table border=\"1\" class=\"dataframe\">\n",
       "  <thead>\n",
       "    <tr style=\"text-align: right;\">\n",
       "      <th></th>\n",
       "      <th>disposition_types</th>\n",
       "      <th>disposition_types_cat</th>\n",
       "    </tr>\n",
       "  </thead>\n",
       "  <tbody>\n",
       "    <tr>\n",
       "      <th>0</th>\n",
       "      <td>CANDIDATE</td>\n",
       "      <td>0</td>\n",
       "    </tr>\n",
       "    <tr>\n",
       "      <th>1</th>\n",
       "      <td>CONFIRMED</td>\n",
       "      <td>1</td>\n",
       "    </tr>\n",
       "    <tr>\n",
       "      <th>2</th>\n",
       "      <td>FALSE POSITIVE</td>\n",
       "      <td>2</td>\n",
       "    </tr>\n",
       "  </tbody>\n",
       "</table>\n",
       "</div>"
      ],
      "text/plain": [
       "  disposition_types  disposition_types_cat\n",
       "0         CANDIDATE                      0\n",
       "1         CONFIRMED                      1\n",
       "2    FALSE POSITIVE                      2"
      ]
     },
     "execution_count": 10,
     "metadata": {},
     "output_type": "execute_result"
    }
   ],
   "source": [
    "# Visualize Label Encoding\n",
    "from sklearn.preprocessing import LabelEncoder\n",
    "disposition_types = ('CANDIDATE', 'CONFIRMED', 'FALSE POSITIVE')\n",
    "disposition_df = pd.DataFrame(disposition_types, columns=['disposition_types'])# converting type of columns to 'category'\n",
    "\n",
    "# creating instance of labelencoder\n",
    "labelencoder = LabelEncoder()\n",
    "\n",
    "# Assigning numerical values and storing in another column\n",
    "disposition_df['disposition_types_cat'] = labelencoder.fit_transform(disposition_df['disposition_types'])\n",
    "disposition_df"
   ]
  },
  {
   "cell_type": "code",
   "execution_count": 11,
   "metadata": {},
   "outputs": [],
   "source": [
    "# Perform Label encoding on train and test data set for y\n",
    "from sklearn.preprocessing import LabelEncoder\n",
    "label_encoder = LabelEncoder()\n",
    "label_encoder.fit(y_train)\n",
    "encoded_y_train = label_encoder.transform(y_train)\n",
    "encoded_y_test = label_encoder.transform(y_test)"
   ]
  },
  {
   "cell_type": "code",
   "execution_count": 12,
   "metadata": {},
   "outputs": [],
   "source": [
    "# Create one-hot encoding for neural network\n",
    "from tensorflow.keras.utils import to_categorical\n",
    "y_train_categorical = to_categorical(encoded_y_train)\n",
    "y_test_categorical = to_categorical(encoded_y_test)"
   ]
  },
  {
   "cell_type": "markdown",
   "metadata": {},
   "source": [
    "# Support Vector Machine Classifiers: Linear\n",
    "-----"
   ]
  },
  {
   "cell_type": "code",
   "execution_count": 14,
   "metadata": {
    "scrolled": true
   },
   "outputs": [
    {
     "name": "stdout",
     "output_type": "stream",
     "text": [
      "Training Data Score: 0.8085065802021744\n",
      "Testing Data Score: 0.7980549199084668\n"
     ]
    }
   ],
   "source": [
    "# Create the SVC Model\n",
    "from sklearn.svm import SVC \n",
    "model_SVC = SVC(kernel='linear')\n",
    "model_SVC.fit(X_train_minmax, y_train)\n",
    "\n",
    "print(f\"Training Data Score: {model_SVC.score(X_train_minmax, y_train)}\")\n",
    "print(f\"Testing Data Score: {model_SVC.score(X_test_minmax, y_test)}\")"
   ]
  },
  {
   "cell_type": "markdown",
   "metadata": {},
   "source": [
    "## Hypertune SVM using GridSearch CV"
   ]
  },
  {
   "cell_type": "code",
   "execution_count": 15,
   "metadata": {},
   "outputs": [],
   "source": [
    "# Create the GridSearchCV model\n",
    "from sklearn.model_selection import GridSearchCV\n",
    "param_grid = {'C': [1, 5, 10, 50],\n",
    "              'gamma': [0.0001, 0.0005, 0.001, 0.005]}\n",
    "grid = GridSearchCV(model_SVC, param_grid, verbose=3)"
   ]
  },
  {
   "cell_type": "code",
   "execution_count": 16,
   "metadata": {
    "scrolled": true
   },
   "outputs": [
    {
     "name": "stdout",
     "output_type": "stream",
     "text": [
      "Fitting 5 folds for each of 16 candidates, totalling 80 fits\n",
      "[CV] C=1, gamma=0.0001 ...............................................\n",
      "[CV] ................... C=1, gamma=0.0001, score=0.819, total=   0.1s\n",
      "[CV] C=1, gamma=0.0001 ...............................................\n"
     ]
    },
    {
     "name": "stderr",
     "output_type": "stream",
     "text": [
      "[Parallel(n_jobs=1)]: Using backend SequentialBackend with 1 concurrent workers.\n",
      "[Parallel(n_jobs=1)]: Done   1 out of   1 | elapsed:    0.1s remaining:    0.0s\n"
     ]
    },
    {
     "name": "stdout",
     "output_type": "stream",
     "text": [
      "[CV] ................... C=1, gamma=0.0001, score=0.803, total=   0.1s\n",
      "[CV] C=1, gamma=0.0001 ...............................................\n",
      "[CV] ................... C=1, gamma=0.0001, score=0.807, total=   0.1s\n",
      "[CV] C=1, gamma=0.0001 ...............................................\n"
     ]
    },
    {
     "name": "stderr",
     "output_type": "stream",
     "text": [
      "[Parallel(n_jobs=1)]: Done   2 out of   2 | elapsed:    0.3s remaining:    0.0s\n"
     ]
    },
    {
     "name": "stdout",
     "output_type": "stream",
     "text": [
      "[CV] ................... C=1, gamma=0.0001, score=0.782, total=   0.1s\n",
      "[CV] C=1, gamma=0.0001 ...............................................\n",
      "[CV] ................... C=1, gamma=0.0001, score=0.807, total=   0.1s\n",
      "[CV] C=1, gamma=0.0005 ...............................................\n",
      "[CV] ................... C=1, gamma=0.0005, score=0.819, total=   0.1s\n",
      "[CV] C=1, gamma=0.0005 ...............................................\n",
      "[CV] ................... C=1, gamma=0.0005, score=0.803, total=   0.1s\n",
      "[CV] C=1, gamma=0.0005 ...............................................\n",
      "[CV] ................... C=1, gamma=0.0005, score=0.807, total=   0.1s\n",
      "[CV] C=1, gamma=0.0005 ...............................................\n",
      "[CV] ................... C=1, gamma=0.0005, score=0.782, total=   0.1s\n",
      "[CV] C=1, gamma=0.0005 ...............................................\n",
      "[CV] ................... C=1, gamma=0.0005, score=0.807, total=   0.1s\n",
      "[CV] C=1, gamma=0.001 ................................................\n",
      "[CV] .................... C=1, gamma=0.001, score=0.819, total=   0.1s\n",
      "[CV] C=1, gamma=0.001 ................................................\n",
      "[CV] .................... C=1, gamma=0.001, score=0.803, total=   0.1s\n",
      "[CV] C=1, gamma=0.001 ................................................\n",
      "[CV] .................... C=1, gamma=0.001, score=0.807, total=   0.1s\n",
      "[CV] C=1, gamma=0.001 ................................................\n",
      "[CV] .................... C=1, gamma=0.001, score=0.782, total=   0.1s\n",
      "[CV] C=1, gamma=0.001 ................................................\n",
      "[CV] .................... C=1, gamma=0.001, score=0.807, total=   0.1s\n",
      "[CV] C=1, gamma=0.005 ................................................\n",
      "[CV] .................... C=1, gamma=0.005, score=0.819, total=   0.1s\n",
      "[CV] C=1, gamma=0.005 ................................................\n",
      "[CV] .................... C=1, gamma=0.005, score=0.803, total=   0.1s\n",
      "[CV] C=1, gamma=0.005 ................................................\n",
      "[CV] .................... C=1, gamma=0.005, score=0.807, total=   0.1s\n",
      "[CV] C=1, gamma=0.005 ................................................\n",
      "[CV] .................... C=1, gamma=0.005, score=0.782, total=   0.1s\n",
      "[CV] C=1, gamma=0.005 ................................................\n",
      "[CV] .................... C=1, gamma=0.005, score=0.807, total=   0.1s\n",
      "[CV] C=5, gamma=0.0001 ...............................................\n",
      "[CV] ................... C=5, gamma=0.0001, score=0.830, total=   0.1s\n",
      "[CV] C=5, gamma=0.0001 ...............................................\n",
      "[CV] ................... C=5, gamma=0.0001, score=0.802, total=   0.2s\n",
      "[CV] C=5, gamma=0.0001 ...............................................\n",
      "[CV] ................... C=5, gamma=0.0001, score=0.819, total=   0.2s\n",
      "[CV] C=5, gamma=0.0001 ...............................................\n",
      "[CV] ................... C=5, gamma=0.0001, score=0.798, total=   0.1s\n",
      "[CV] C=5, gamma=0.0001 ...............................................\n",
      "[CV] ................... C=5, gamma=0.0001, score=0.815, total=   0.2s\n",
      "[CV] C=5, gamma=0.0005 ...............................................\n",
      "[CV] ................... C=5, gamma=0.0005, score=0.830, total=   0.2s\n",
      "[CV] C=5, gamma=0.0005 ...............................................\n",
      "[CV] ................... C=5, gamma=0.0005, score=0.802, total=   0.1s\n",
      "[CV] C=5, gamma=0.0005 ...............................................\n",
      "[CV] ................... C=5, gamma=0.0005, score=0.819, total=   0.2s\n",
      "[CV] C=5, gamma=0.0005 ...............................................\n",
      "[CV] ................... C=5, gamma=0.0005, score=0.798, total=   0.2s\n",
      "[CV] C=5, gamma=0.0005 ...............................................\n",
      "[CV] ................... C=5, gamma=0.0005, score=0.815, total=   0.2s\n",
      "[CV] C=5, gamma=0.001 ................................................\n",
      "[CV] .................... C=5, gamma=0.001, score=0.830, total=   0.2s\n",
      "[CV] C=5, gamma=0.001 ................................................\n",
      "[CV] .................... C=5, gamma=0.001, score=0.802, total=   0.2s\n",
      "[CV] C=5, gamma=0.001 ................................................\n",
      "[CV] .................... C=5, gamma=0.001, score=0.819, total=   0.2s\n",
      "[CV] C=5, gamma=0.001 ................................................\n",
      "[CV] .................... C=5, gamma=0.001, score=0.798, total=   0.2s\n",
      "[CV] C=5, gamma=0.001 ................................................\n",
      "[CV] .................... C=5, gamma=0.001, score=0.815, total=   0.2s\n",
      "[CV] C=5, gamma=0.005 ................................................\n",
      "[CV] .................... C=5, gamma=0.005, score=0.830, total=   0.2s\n",
      "[CV] C=5, gamma=0.005 ................................................\n",
      "[CV] .................... C=5, gamma=0.005, score=0.802, total=   0.2s\n",
      "[CV] C=5, gamma=0.005 ................................................\n",
      "[CV] .................... C=5, gamma=0.005, score=0.819, total=   0.2s\n",
      "[CV] C=5, gamma=0.005 ................................................\n",
      "[CV] .................... C=5, gamma=0.005, score=0.798, total=   0.1s\n",
      "[CV] C=5, gamma=0.005 ................................................\n",
      "[CV] .................... C=5, gamma=0.005, score=0.815, total=   0.2s\n",
      "[CV] C=10, gamma=0.0001 ..............................................\n",
      "[CV] .................. C=10, gamma=0.0001, score=0.836, total=   0.2s\n",
      "[CV] C=10, gamma=0.0001 ..............................................\n",
      "[CV] .................. C=10, gamma=0.0001, score=0.802, total=   0.2s\n",
      "[CV] C=10, gamma=0.0001 ..............................................\n",
      "[CV] .................. C=10, gamma=0.0001, score=0.818, total=   0.2s\n",
      "[CV] C=10, gamma=0.0001 ..............................................\n",
      "[CV] .................. C=10, gamma=0.0001, score=0.803, total=   0.2s\n",
      "[CV] C=10, gamma=0.0001 ..............................................\n",
      "[CV] .................. C=10, gamma=0.0001, score=0.817, total=   0.2s\n",
      "[CV] C=10, gamma=0.0005 ..............................................\n",
      "[CV] .................. C=10, gamma=0.0005, score=0.836, total=   0.2s\n",
      "[CV] C=10, gamma=0.0005 ..............................................\n",
      "[CV] .................. C=10, gamma=0.0005, score=0.802, total=   0.2s\n",
      "[CV] C=10, gamma=0.0005 ..............................................\n",
      "[CV] .................. C=10, gamma=0.0005, score=0.818, total=   0.2s\n",
      "[CV] C=10, gamma=0.0005 ..............................................\n",
      "[CV] .................. C=10, gamma=0.0005, score=0.803, total=   0.1s\n",
      "[CV] C=10, gamma=0.0005 ..............................................\n",
      "[CV] .................. C=10, gamma=0.0005, score=0.817, total=   0.2s\n",
      "[CV] C=10, gamma=0.001 ...............................................\n",
      "[CV] ................... C=10, gamma=0.001, score=0.836, total=   0.2s\n",
      "[CV] C=10, gamma=0.001 ...............................................\n",
      "[CV] ................... C=10, gamma=0.001, score=0.802, total=   0.2s\n",
      "[CV] C=10, gamma=0.001 ...............................................\n",
      "[CV] ................... C=10, gamma=0.001, score=0.818, total=   0.2s\n",
      "[CV] C=10, gamma=0.001 ...............................................\n",
      "[CV] ................... C=10, gamma=0.001, score=0.803, total=   0.2s\n",
      "[CV] C=10, gamma=0.001 ...............................................\n",
      "[CV] ................... C=10, gamma=0.001, score=0.817, total=   0.2s\n",
      "[CV] C=10, gamma=0.005 ...............................................\n",
      "[CV] ................... C=10, gamma=0.005, score=0.836, total=   0.2s\n",
      "[CV] C=10, gamma=0.005 ...............................................\n",
      "[CV] ................... C=10, gamma=0.005, score=0.802, total=   0.2s\n",
      "[CV] C=10, gamma=0.005 ...............................................\n",
      "[CV] ................... C=10, gamma=0.005, score=0.818, total=   0.2s\n",
      "[CV] C=10, gamma=0.005 ...............................................\n",
      "[CV] ................... C=10, gamma=0.005, score=0.803, total=   0.2s\n",
      "[CV] C=10, gamma=0.005 ...............................................\n",
      "[CV] ................... C=10, gamma=0.005, score=0.817, total=   0.2s\n",
      "[CV] C=50, gamma=0.0001 ..............................................\n",
      "[CV] .................. C=50, gamma=0.0001, score=0.845, total=   0.2s\n",
      "[CV] C=50, gamma=0.0001 ..............................................\n"
     ]
    },
    {
     "name": "stdout",
     "output_type": "stream",
     "text": [
      "[CV] .................. C=50, gamma=0.0001, score=0.809, total=   0.2s\n",
      "[CV] C=50, gamma=0.0001 ..............................................\n",
      "[CV] .................. C=50, gamma=0.0001, score=0.816, total=   0.2s\n",
      "[CV] C=50, gamma=0.0001 ..............................................\n",
      "[CV] .................. C=50, gamma=0.0001, score=0.807, total=   0.2s\n",
      "[CV] C=50, gamma=0.0001 ..............................................\n",
      "[CV] .................. C=50, gamma=0.0001, score=0.821, total=   0.2s\n",
      "[CV] C=50, gamma=0.0005 ..............................................\n",
      "[CV] .................. C=50, gamma=0.0005, score=0.845, total=   0.2s\n",
      "[CV] C=50, gamma=0.0005 ..............................................\n",
      "[CV] .................. C=50, gamma=0.0005, score=0.809, total=   0.2s\n",
      "[CV] C=50, gamma=0.0005 ..............................................\n",
      "[CV] .................. C=50, gamma=0.0005, score=0.816, total=   0.2s\n",
      "[CV] C=50, gamma=0.0005 ..............................................\n",
      "[CV] .................. C=50, gamma=0.0005, score=0.807, total=   0.2s\n",
      "[CV] C=50, gamma=0.0005 ..............................................\n",
      "[CV] .................. C=50, gamma=0.0005, score=0.821, total=   0.2s\n",
      "[CV] C=50, gamma=0.001 ...............................................\n",
      "[CV] ................... C=50, gamma=0.001, score=0.845, total=   0.2s\n",
      "[CV] C=50, gamma=0.001 ...............................................\n",
      "[CV] ................... C=50, gamma=0.001, score=0.809, total=   0.2s\n",
      "[CV] C=50, gamma=0.001 ...............................................\n",
      "[CV] ................... C=50, gamma=0.001, score=0.816, total=   0.2s\n",
      "[CV] C=50, gamma=0.001 ...............................................\n",
      "[CV] ................... C=50, gamma=0.001, score=0.807, total=   0.2s\n",
      "[CV] C=50, gamma=0.001 ...............................................\n",
      "[CV] ................... C=50, gamma=0.001, score=0.821, total=   0.2s\n",
      "[CV] C=50, gamma=0.005 ...............................................\n",
      "[CV] ................... C=50, gamma=0.005, score=0.845, total=   0.2s\n",
      "[CV] C=50, gamma=0.005 ...............................................\n",
      "[CV] ................... C=50, gamma=0.005, score=0.809, total=   0.2s\n",
      "[CV] C=50, gamma=0.005 ...............................................\n",
      "[CV] ................... C=50, gamma=0.005, score=0.816, total=   0.2s\n",
      "[CV] C=50, gamma=0.005 ...............................................\n",
      "[CV] ................... C=50, gamma=0.005, score=0.807, total=   0.2s\n",
      "[CV] C=50, gamma=0.005 ...............................................\n",
      "[CV] ................... C=50, gamma=0.005, score=0.821, total=   0.2s\n"
     ]
    },
    {
     "name": "stderr",
     "output_type": "stream",
     "text": [
      "[Parallel(n_jobs=1)]: Done  80 out of  80 | elapsed:   13.3s finished\n"
     ]
    },
    {
     "name": "stdout",
     "output_type": "stream",
     "text": [
      "{'C': 50, 'gamma': 0.0001}\n"
     ]
    }
   ],
   "source": [
    "# Fit the Model using the grid search estimator\n",
    "grid.fit(X_train_minmax, encoded_y_train)\n",
    "print(grid.best_params_)"
   ]
  },
  {
   "cell_type": "code",
   "execution_count": 17,
   "metadata": {
    "scrolled": false
   },
   "outputs": [
    {
     "name": "stdout",
     "output_type": "stream",
     "text": [
      "Best Parameters: {'C': 50, 'gamma': 0.0001}\n",
      "Best SVG score: 0.8195667993508904\n"
     ]
    }
   ],
   "source": [
    "print(f\"Best Parameters: {grid.best_params_}\")\n",
    "print(f\"Best SVG score: {grid.best_score_}\")"
   ]
  },
  {
   "cell_type": "markdown",
   "metadata": {},
   "source": [
    "### Create and Fit Hypertune SVM"
   ]
  },
  {
   "cell_type": "code",
   "execution_count": 18,
   "metadata": {},
   "outputs": [
    {
     "name": "stdout",
     "output_type": "stream",
     "text": [
      "Training Data Score: 0.8241464810223155\n",
      "Testing Data Score: 0.8100686498855835\n"
     ]
    }
   ],
   "source": [
    "model_SVC2 = SVC(C=50, gamma= 0.0001, kernel='linear')\n",
    "model_SVC2.fit(X_train_minmax, encoded_y_train)\n",
    "print(f\"Training Data Score: {model_SVC2.score(X_train_minmax, encoded_y_train)}\")\n",
    "print(f\"Testing Data Score: {model_SVC2.score(X_test_minmax, encoded_y_test)}\")"
   ]
  },
  {
   "cell_type": "markdown",
   "metadata": {},
   "source": [
    "### Save the Model"
   ]
  },
  {
   "cell_type": "code",
   "execution_count": 19,
   "metadata": {},
   "outputs": [
    {
     "data": {
      "text/plain": [
       "['Models/lmstein_svm.sav']"
      ]
     },
     "execution_count": 19,
     "metadata": {},
     "output_type": "execute_result"
    }
   ],
   "source": [
    "import joblib\n",
    "filename = 'Models/lmstein_svm.sav'\n",
    "joblib.dump(\"lmstein\", filename)"
   ]
  },
  {
   "cell_type": "markdown",
   "metadata": {},
   "source": [
    "# Logistic Regression\n",
    "-----"
   ]
  },
  {
   "cell_type": "code",
   "execution_count": 20,
   "metadata": {
    "scrolled": true
   },
   "outputs": [
    {
     "name": "stdout",
     "output_type": "stream",
     "text": [
      "Training Data Score: 0.8136563036429525\n",
      "Testing Data Score: 0.8037757437070938\n"
     ]
    }
   ],
   "source": [
    "import matplotlib.pyplot as plt\n",
    "\n",
    "#Create a logistic regression model\n",
    "from sklearn.linear_model import LogisticRegression\n",
    "classifier = LogisticRegression()\n",
    "\n",
    "# Fit the model to the data\n",
    "classifier.fit(X_train_minmax, y_train)\n",
    "\n",
    "\n",
    "# Scoer the model\n",
    "print(f\"Training Data Score: {classifier.score(X_train_minmax, y_train)}\")\n",
    "print(f\"Testing Data Score: {classifier.score(X_test_minmax, y_test)}\")"
   ]
  },
  {
   "cell_type": "markdown",
   "metadata": {},
   "source": [
    "## Hypertune the Model"
   ]
  },
  {
   "cell_type": "code",
   "execution_count": 21,
   "metadata": {
    "scrolled": true
   },
   "outputs": [
    {
     "name": "stdout",
     "output_type": "stream",
     "text": [
      "Fitting 5 folds for each of 6 candidates, totalling 30 fits\n",
      "[CV] C=1, penalty=l1 .................................................\n",
      "[CV] ....................... C=1, penalty=l1, score=nan, total=   0.0s\n",
      "[CV] C=1, penalty=l1 .................................................\n",
      "[CV] ....................... C=1, penalty=l1, score=nan, total=   0.0s\n",
      "[CV] C=1, penalty=l1 .................................................\n",
      "[CV] ....................... C=1, penalty=l1, score=nan, total=   0.0s\n",
      "[CV] C=1, penalty=l1 .................................................\n",
      "[CV] ....................... C=1, penalty=l1, score=nan, total=   0.0s\n",
      "[CV] C=1, penalty=l1 .................................................\n",
      "[CV] ....................... C=1, penalty=l1, score=nan, total=   0.0s\n",
      "[CV] C=1, penalty=l2 .................................................\n",
      "[CV] ..................... C=1, penalty=l2, score=0.828, total=   0.1s\n",
      "[CV] C=1, penalty=l2 .................................................\n",
      "[CV] ..................... C=1, penalty=l2, score=0.803, total=   0.1s\n",
      "[CV] C=1, penalty=l2 .................................................\n"
     ]
    },
    {
     "name": "stderr",
     "output_type": "stream",
     "text": [
      "[Parallel(n_jobs=1)]: Using backend SequentialBackend with 1 concurrent workers.\n",
      "/opt/anaconda3/envs/PythonAdv/lib/python3.6/site-packages/sklearn/model_selection/_validation.py:552: FitFailedWarning: Estimator fit failed. The score on this train-test partition for these parameters will be set to nan. Details: \n",
      "Traceback (most recent call last):\n",
      "  File \"/opt/anaconda3/envs/PythonAdv/lib/python3.6/site-packages/sklearn/model_selection/_validation.py\", line 531, in _fit_and_score\n",
      "    estimator.fit(X_train, y_train, **fit_params)\n",
      "  File \"/opt/anaconda3/envs/PythonAdv/lib/python3.6/site-packages/sklearn/linear_model/_logistic.py\", line 1304, in fit\n",
      "    solver = _check_solver(self.solver, self.penalty, self.dual)\n",
      "  File \"/opt/anaconda3/envs/PythonAdv/lib/python3.6/site-packages/sklearn/linear_model/_logistic.py\", line 443, in _check_solver\n",
      "    \"got %s penalty.\" % (solver, penalty))\n",
      "ValueError: Solver lbfgs supports only 'l2' or 'none' penalties, got l1 penalty.\n",
      "\n",
      "  FitFailedWarning)\n",
      "[Parallel(n_jobs=1)]: Done   1 out of   1 | elapsed:    0.0s remaining:    0.0s\n",
      "[Parallel(n_jobs=1)]: Done   2 out of   2 | elapsed:    0.0s remaining:    0.0s\n"
     ]
    },
    {
     "name": "stdout",
     "output_type": "stream",
     "text": [
      "[CV] ..................... C=1, penalty=l2, score=0.815, total=   0.1s\n",
      "[CV] C=1, penalty=l2 .................................................\n",
      "[CV] ..................... C=1, penalty=l2, score=0.797, total=   0.1s\n",
      "[CV] C=1, penalty=l2 .................................................\n",
      "[CV] ..................... C=1, penalty=l2, score=0.806, total=   0.1s\n",
      "[CV] C=2, penalty=l1 .................................................\n",
      "[CV] ....................... C=2, penalty=l1, score=nan, total=   0.0s\n",
      "[CV] C=2, penalty=l1 .................................................\n",
      "[CV] ....................... C=2, penalty=l1, score=nan, total=   0.0s\n",
      "[CV] C=2, penalty=l1 .................................................\n",
      "[CV] ....................... C=2, penalty=l1, score=nan, total=   0.0s\n",
      "[CV] C=2, penalty=l1 .................................................\n",
      "[CV] ....................... C=2, penalty=l1, score=nan, total=   0.0s\n",
      "[CV] C=2, penalty=l1 .................................................\n",
      "[CV] ....................... C=2, penalty=l1, score=nan, total=   0.0s\n",
      "[CV] C=2, penalty=l2 .................................................\n"
     ]
    },
    {
     "name": "stderr",
     "output_type": "stream",
     "text": [
      "/opt/anaconda3/envs/PythonAdv/lib/python3.6/site-packages/sklearn/model_selection/_validation.py:552: FitFailedWarning: Estimator fit failed. The score on this train-test partition for these parameters will be set to nan. Details: \n",
      "Traceback (most recent call last):\n",
      "  File \"/opt/anaconda3/envs/PythonAdv/lib/python3.6/site-packages/sklearn/model_selection/_validation.py\", line 531, in _fit_and_score\n",
      "    estimator.fit(X_train, y_train, **fit_params)\n",
      "  File \"/opt/anaconda3/envs/PythonAdv/lib/python3.6/site-packages/sklearn/linear_model/_logistic.py\", line 1304, in fit\n",
      "    solver = _check_solver(self.solver, self.penalty, self.dual)\n",
      "  File \"/opt/anaconda3/envs/PythonAdv/lib/python3.6/site-packages/sklearn/linear_model/_logistic.py\", line 443, in _check_solver\n",
      "    \"got %s penalty.\" % (solver, penalty))\n",
      "ValueError: Solver lbfgs supports only 'l2' or 'none' penalties, got l1 penalty.\n",
      "\n",
      "  FitFailedWarning)\n"
     ]
    },
    {
     "name": "stdout",
     "output_type": "stream",
     "text": [
      "[CV] ..................... C=2, penalty=l2, score=0.830, total=   0.1s\n",
      "[CV] C=2, penalty=l2 .................................................\n",
      "[CV] ..................... C=2, penalty=l2, score=0.803, total=   0.1s\n",
      "[CV] C=2, penalty=l2 .................................................\n",
      "[CV] ..................... C=2, penalty=l2, score=0.816, total=   0.1s\n",
      "[CV] C=2, penalty=l2 .................................................\n",
      "[CV] ..................... C=2, penalty=l2, score=0.800, total=   0.1s\n",
      "[CV] C=2, penalty=l2 .................................................\n",
      "[CV] ..................... C=2, penalty=l2, score=0.814, total=   0.1s\n",
      "[CV] C=10, penalty=l1 ................................................\n",
      "[CV] ...................... C=10, penalty=l1, score=nan, total=   0.0s\n",
      "[CV] C=10, penalty=l1 ................................................\n",
      "[CV] ...................... C=10, penalty=l1, score=nan, total=   0.0s\n",
      "[CV] C=10, penalty=l1 ................................................\n",
      "[CV] ...................... C=10, penalty=l1, score=nan, total=   0.0s\n",
      "[CV] C=10, penalty=l1 ................................................\n",
      "[CV] ...................... C=10, penalty=l1, score=nan, total=   0.0s\n",
      "[CV] C=10, penalty=l1 ................................................\n",
      "[CV] ...................... C=10, penalty=l1, score=nan, total=   0.0s\n",
      "[CV] C=10, penalty=l2 ................................................\n"
     ]
    },
    {
     "name": "stderr",
     "output_type": "stream",
     "text": [
      "/opt/anaconda3/envs/PythonAdv/lib/python3.6/site-packages/sklearn/model_selection/_validation.py:552: FitFailedWarning: Estimator fit failed. The score on this train-test partition for these parameters will be set to nan. Details: \n",
      "Traceback (most recent call last):\n",
      "  File \"/opt/anaconda3/envs/PythonAdv/lib/python3.6/site-packages/sklearn/model_selection/_validation.py\", line 531, in _fit_and_score\n",
      "    estimator.fit(X_train, y_train, **fit_params)\n",
      "  File \"/opt/anaconda3/envs/PythonAdv/lib/python3.6/site-packages/sklearn/linear_model/_logistic.py\", line 1304, in fit\n",
      "    solver = _check_solver(self.solver, self.penalty, self.dual)\n",
      "  File \"/opt/anaconda3/envs/PythonAdv/lib/python3.6/site-packages/sklearn/linear_model/_logistic.py\", line 443, in _check_solver\n",
      "    \"got %s penalty.\" % (solver, penalty))\n",
      "ValueError: Solver lbfgs supports only 'l2' or 'none' penalties, got l1 penalty.\n",
      "\n",
      "  FitFailedWarning)\n",
      "/opt/anaconda3/envs/PythonAdv/lib/python3.6/site-packages/sklearn/linear_model/_logistic.py:764: ConvergenceWarning: lbfgs failed to converge (status=1):\n",
      "STOP: TOTAL NO. of ITERATIONS REACHED LIMIT.\n",
      "\n",
      "Increase the number of iterations (max_iter) or scale the data as shown in:\n",
      "    https://scikit-learn.org/stable/modules/preprocessing.html\n",
      "Please also refer to the documentation for alternative solver options:\n",
      "    https://scikit-learn.org/stable/modules/linear_model.html#logistic-regression\n",
      "  extra_warning_msg=_LOGISTIC_SOLVER_CONVERGENCE_MSG)\n"
     ]
    },
    {
     "name": "stdout",
     "output_type": "stream",
     "text": [
      "[CV] .................... C=10, penalty=l2, score=0.844, total=   0.1s\n",
      "[CV] C=10, penalty=l2 ................................................\n",
      "[CV] .................... C=10, penalty=l2, score=0.810, total=   0.1s\n",
      "[CV] C=10, penalty=l2 ................................................\n"
     ]
    },
    {
     "name": "stderr",
     "output_type": "stream",
     "text": [
      "/opt/anaconda3/envs/PythonAdv/lib/python3.6/site-packages/sklearn/linear_model/_logistic.py:764: ConvergenceWarning: lbfgs failed to converge (status=1):\n",
      "STOP: TOTAL NO. of ITERATIONS REACHED LIMIT.\n",
      "\n",
      "Increase the number of iterations (max_iter) or scale the data as shown in:\n",
      "    https://scikit-learn.org/stable/modules/preprocessing.html\n",
      "Please also refer to the documentation for alternative solver options:\n",
      "    https://scikit-learn.org/stable/modules/linear_model.html#logistic-regression\n",
      "  extra_warning_msg=_LOGISTIC_SOLVER_CONVERGENCE_MSG)\n",
      "/opt/anaconda3/envs/PythonAdv/lib/python3.6/site-packages/sklearn/linear_model/_logistic.py:764: ConvergenceWarning: lbfgs failed to converge (status=1):\n",
      "STOP: TOTAL NO. of ITERATIONS REACHED LIMIT.\n",
      "\n",
      "Increase the number of iterations (max_iter) or scale the data as shown in:\n",
      "    https://scikit-learn.org/stable/modules/preprocessing.html\n",
      "Please also refer to the documentation for alternative solver options:\n",
      "    https://scikit-learn.org/stable/modules/linear_model.html#logistic-regression\n",
      "  extra_warning_msg=_LOGISTIC_SOLVER_CONVERGENCE_MSG)\n"
     ]
    },
    {
     "name": "stdout",
     "output_type": "stream",
     "text": [
      "[CV] .................... C=10, penalty=l2, score=0.811, total=   0.1s\n",
      "[CV] C=10, penalty=l2 ................................................\n",
      "[CV] .................... C=10, penalty=l2, score=0.804, total=   0.1s\n",
      "[CV] C=10, penalty=l2 ................................................\n",
      "[CV] .................... C=10, penalty=l2, score=0.822, total=   0.1s\n"
     ]
    },
    {
     "name": "stderr",
     "output_type": "stream",
     "text": [
      "/opt/anaconda3/envs/PythonAdv/lib/python3.6/site-packages/sklearn/linear_model/_logistic.py:764: ConvergenceWarning: lbfgs failed to converge (status=1):\n",
      "STOP: TOTAL NO. of ITERATIONS REACHED LIMIT.\n",
      "\n",
      "Increase the number of iterations (max_iter) or scale the data as shown in:\n",
      "    https://scikit-learn.org/stable/modules/preprocessing.html\n",
      "Please also refer to the documentation for alternative solver options:\n",
      "    https://scikit-learn.org/stable/modules/linear_model.html#logistic-regression\n",
      "  extra_warning_msg=_LOGISTIC_SOLVER_CONVERGENCE_MSG)\n",
      "/opt/anaconda3/envs/PythonAdv/lib/python3.6/site-packages/sklearn/linear_model/_logistic.py:764: ConvergenceWarning: lbfgs failed to converge (status=1):\n",
      "STOP: TOTAL NO. of ITERATIONS REACHED LIMIT.\n",
      "\n",
      "Increase the number of iterations (max_iter) or scale the data as shown in:\n",
      "    https://scikit-learn.org/stable/modules/preprocessing.html\n",
      "Please also refer to the documentation for alternative solver options:\n",
      "    https://scikit-learn.org/stable/modules/linear_model.html#logistic-regression\n",
      "  extra_warning_msg=_LOGISTIC_SOLVER_CONVERGENCE_MSG)\n",
      "[Parallel(n_jobs=1)]: Done  30 out of  30 | elapsed:    1.4s finished\n",
      "/opt/anaconda3/envs/PythonAdv/lib/python3.6/site-packages/sklearn/linear_model/_logistic.py:764: ConvergenceWarning: lbfgs failed to converge (status=1):\n",
      "STOP: TOTAL NO. of ITERATIONS REACHED LIMIT.\n",
      "\n",
      "Increase the number of iterations (max_iter) or scale the data as shown in:\n",
      "    https://scikit-learn.org/stable/modules/preprocessing.html\n",
      "Please also refer to the documentation for alternative solver options:\n",
      "    https://scikit-learn.org/stable/modules/linear_model.html#logistic-regression\n",
      "  extra_warning_msg=_LOGISTIC_SOLVER_CONVERGENCE_MSG)\n"
     ]
    },
    {
     "data": {
      "text/plain": [
       "GridSearchCV(estimator=LogisticRegression(),\n",
       "             param_grid={'C': [1, 2, 10], 'penalty': ['l1', 'l2']}, verbose=3)"
      ]
     },
     "execution_count": 21,
     "metadata": {},
     "output_type": "execute_result"
    }
   ],
   "source": [
    "# Create the GridSearchCV model\n",
    "from sklearn.model_selection import GridSearchCV\n",
    "params = {\"C\": [1,2,10], 'penalty': ['l1', 'l2']}\n",
    "grid2 =GridSearchCV(classifier,params,verbose=3)\n",
    "grid2.fit(X_train_minmax, y_train)"
   ]
  },
  {
   "cell_type": "code",
   "execution_count": 22,
   "metadata": {
    "scrolled": false
   },
   "outputs": [
    {
     "name": "stdout",
     "output_type": "stream",
     "text": [
      "Best Parameters: {'C': 10, 'penalty': 'l2'}\n",
      "Best SVG score: 0.8182318311150569\n"
     ]
    }
   ],
   "source": [
    "print(f\"Best Parameters: {grid2.best_params_}\")\n",
    "print(f\"Best SVG score: {grid2.best_score_}\")"
   ]
  },
  {
   "cell_type": "markdown",
   "metadata": {},
   "source": [
    "### Create and Fit Hypertuned Logistic Regression"
   ]
  },
  {
   "cell_type": "code",
   "execution_count": 23,
   "metadata": {},
   "outputs": [
    {
     "name": "stdout",
     "output_type": "stream",
     "text": [
      "Training Data Score: 0.8222391760442495\n",
      "Testing Data Score: 0.8094965675057209\n"
     ]
    },
    {
     "name": "stderr",
     "output_type": "stream",
     "text": [
      "/opt/anaconda3/envs/PythonAdv/lib/python3.6/site-packages/sklearn/linear_model/_logistic.py:764: ConvergenceWarning: lbfgs failed to converge (status=1):\n",
      "STOP: TOTAL NO. of ITERATIONS REACHED LIMIT.\n",
      "\n",
      "Increase the number of iterations (max_iter) or scale the data as shown in:\n",
      "    https://scikit-learn.org/stable/modules/preprocessing.html\n",
      "Please also refer to the documentation for alternative solver options:\n",
      "    https://scikit-learn.org/stable/modules/linear_model.html#logistic-regression\n",
      "  extra_warning_msg=_LOGISTIC_SOLVER_CONVERGENCE_MSG)\n"
     ]
    }
   ],
   "source": [
    "classifier2 = LogisticRegression(C=10, penalty=\"l2\")\n",
    "\n",
    "# Fit the model to the data\n",
    "classifier2.fit(X_train_minmax, y_train)\n",
    "\n",
    "print(f\"Training Data Score: {classifier2.score(X_train_minmax, y_train)}\")\n",
    "print(f\"Testing Data Score: {classifier2.score(X_test_minmax, y_test)}\")"
   ]
  },
  {
   "cell_type": "markdown",
   "metadata": {},
   "source": [
    "### Save the Model"
   ]
  },
  {
   "cell_type": "code",
   "execution_count": 24,
   "metadata": {},
   "outputs": [
    {
     "data": {
      "text/plain": [
       "['Models/lmstein_lr.sav']"
      ]
     },
     "execution_count": 24,
     "metadata": {},
     "output_type": "execute_result"
    }
   ],
   "source": [
    "import joblib\n",
    "filename = 'Models/lmstein_lr.sav'\n",
    "joblib.dump(\"lmstein\", filename)"
   ]
  },
  {
   "cell_type": "markdown",
   "metadata": {},
   "source": [
    "# Random Forest \n",
    "----"
   ]
  },
  {
   "cell_type": "code",
   "execution_count": 25,
   "metadata": {
    "scrolled": true
   },
   "outputs": [
    {
     "data": {
      "text/plain": [
       "[(0.13546803817191622, 'koi_model_snr'),\n",
       " (0.13299237494425487, 'koi_fpflag_nt'),\n",
       " (0.13249580301821748, 'koi_fpflag_co'),\n",
       " (0.11058041500360828, 'koi_fpflag_ss'),\n",
       " (0.07686629078110711, 'koi_prad'),\n",
       " (0.048965550016794195, 'koi_depth'),\n",
       " (0.04470705483010433, 'koi_period'),\n",
       " (0.043355138795892874, 'koi_fpflag_ec'),\n",
       " (0.03850599774682626, 'koi_impact'),\n",
       " (0.03230489190460342, 'koi_teq'),\n",
       " (0.03195531826675794, 'koi_duration'),\n",
       " (0.03003325797715433, 'koi_time0bk'),\n",
       " (0.026247631927784374, 'koi_insol'),\n",
       " (0.025053450496244068, 'koi_steff'),\n",
       " (0.023017253805654603, 'ra'),\n",
       " (0.02299711454219339, 'koi_srad'),\n",
       " (0.02253738004032889, 'dec'),\n",
       " (0.021917037730557386, 'koi_kepmag')]"
      ]
     },
     "execution_count": 25,
     "metadata": {},
     "output_type": "execute_result"
    }
   ],
   "source": [
    "from sklearn.ensemble import RandomForestClassifier\n",
    "\n",
    "# STEP 1: Create a random forest classifier\n",
    "rf = RandomForestClassifier(n_estimators=200)\n",
    "rf = rf.fit(X_train_minmax, encoded_y_train)\n",
    "score = rf.score(X_test_minmax, encoded_y_test)\n",
    "\n",
    "# STEP 2: Auto calculate feature importance\n",
    "importances = rf.feature_importances_\n",
    "importances\n",
    "\n",
    "# Sort the features by their importance\n",
    "sorted(zip(rf.feature_importances_, X.columns), reverse=True)"
   ]
  },
  {
   "cell_type": "code",
   "execution_count": 26,
   "metadata": {},
   "outputs": [
    {
     "name": "stdout",
     "output_type": "stream",
     "text": [
      "Random Forest Testing Score: 0.9084668192219679\n"
     ]
    }
   ],
   "source": [
    "print(f\"Random Forest Testing Score: {score}\")"
   ]
  },
  {
   "cell_type": "markdown",
   "metadata": {},
   "source": [
    "## Hypertune the Model"
   ]
  },
  {
   "cell_type": "code",
   "execution_count": 27,
   "metadata": {},
   "outputs": [
    {
     "data": {
      "text/plain": [
       "dict_keys(['bootstrap', 'ccp_alpha', 'class_weight', 'criterion', 'max_depth', 'max_features', 'max_leaf_nodes', 'max_samples', 'min_impurity_decrease', 'min_impurity_split', 'min_samples_leaf', 'min_samples_split', 'min_weight_fraction_leaf', 'n_estimators', 'n_jobs', 'oob_score', 'random_state', 'verbose', 'warm_start'])"
      ]
     },
     "execution_count": 27,
     "metadata": {},
     "output_type": "execute_result"
    }
   ],
   "source": [
    "rf.get_params().keys()"
   ]
  },
  {
   "cell_type": "code",
   "execution_count": 28,
   "metadata": {
    "scrolled": true
   },
   "outputs": [
    {
     "name": "stdout",
     "output_type": "stream",
     "text": [
      "{'bootstrap': [True, False],\n",
      " 'max_depth': [10, 60, 110, None],\n",
      " 'max_features': ['auto', 'sqrt'],\n",
      " 'min_samples_leaf': [1, 2, 4],\n",
      " 'min_samples_split': [2, 5, 10],\n",
      " 'n_estimators': [200, 1100, 2000]}\n"
     ]
    }
   ],
   "source": [
    "from sklearn.model_selection import RandomizedSearchCV# Number of trees in random forest\n",
    "n_estimators = [int(x) for x in np.linspace(start = 200, stop = 2000, num = 3)]\n",
    "# Number of features to consider at every split\n",
    "max_features = ['auto', 'sqrt']\n",
    "# Maximum number of levels in tree\n",
    "max_depth = [int(x) for x in np.linspace(10, 110, num = 3)]\n",
    "max_depth.append(None)\n",
    "# Minimum number of samples required to split a node\n",
    "min_samples_split = [2, 5, 10]\n",
    "# Minimum number of samples required at each leaf node\n",
    "min_samples_leaf = [1, 2, 4]\n",
    "# Method of selecting samples for training each tree\n",
    "bootstrap = [True, False]# Create the random grid\n",
    "random_grid = {'n_estimators': n_estimators,\n",
    "               'max_features': max_features,\n",
    "               'max_depth': max_depth,\n",
    "               'min_samples_split': min_samples_split,\n",
    "               'min_samples_leaf': min_samples_leaf,\n",
    "               'bootstrap': bootstrap}\n",
    "pprint(random_grid)"
   ]
  },
  {
   "cell_type": "code",
   "execution_count": 29,
   "metadata": {
    "scrolled": true
   },
   "outputs": [
    {
     "name": "stdout",
     "output_type": "stream",
     "text": [
      "Fitting 3 folds for each of 10 candidates, totalling 30 fits\n"
     ]
    },
    {
     "name": "stderr",
     "output_type": "stream",
     "text": [
      "[Parallel(n_jobs=-1)]: Using backend LokyBackend with 8 concurrent workers.\n",
      "[Parallel(n_jobs=-1)]: Done  30 out of  30 | elapsed:  2.3min finished\n"
     ]
    },
    {
     "data": {
      "text/plain": [
       "RandomizedSearchCV(cv=3, estimator=RandomForestRegressor(), n_jobs=-1,\n",
       "                   param_distributions={'bootstrap': [True, False],\n",
       "                                        'max_depth': [10, 60, 110, None],\n",
       "                                        'max_features': ['auto', 'sqrt'],\n",
       "                                        'min_samples_leaf': [1, 2, 4],\n",
       "                                        'min_samples_split': [2, 5, 10],\n",
       "                                        'n_estimators': [200, 1100, 2000]},\n",
       "                   random_state=42, verbose=2)"
      ]
     },
     "execution_count": 29,
     "metadata": {},
     "output_type": "execute_result"
    }
   ],
   "source": [
    "from sklearn.ensemble import RandomForestRegressor\n",
    "# Use the random grid to search for best hyperparameters\n",
    "# First create the base model to tune\n",
    "rf = RandomForestRegressor()\n",
    "# Random search of parameters, using 3 fold cross validation, \n",
    "# search across 100 different combinations, and use all available cores\n",
    "rf_random = RandomizedSearchCV(estimator = rf, param_distributions = random_grid, n_iter = 10, cv = 3, verbose=2, random_state=42, n_jobs = -1)# Fit the random search model\n",
    "rf_random.fit(X_train_minmax, encoded_y_train)"
   ]
  },
  {
   "cell_type": "code",
   "execution_count": 30,
   "metadata": {},
   "outputs": [
    {
     "data": {
      "text/plain": [
       "{'n_estimators': 200,\n",
       " 'min_samples_split': 2,\n",
       " 'min_samples_leaf': 4,\n",
       " 'max_features': 'auto',\n",
       " 'max_depth': None,\n",
       " 'bootstrap': True}"
      ]
     },
     "execution_count": 30,
     "metadata": {},
     "output_type": "execute_result"
    }
   ],
   "source": [
    "rf_random.best_params_"
   ]
  },
  {
   "cell_type": "markdown",
   "metadata": {},
   "source": [
    "### Create a Fit Hypertuned Random Forest"
   ]
  },
  {
   "cell_type": "code",
   "execution_count": 31,
   "metadata": {},
   "outputs": [
    {
     "name": "stdout",
     "output_type": "stream",
     "text": [
      "Random Forest Testing Score: 0.9050343249427918\n"
     ]
    }
   ],
   "source": [
    "rf2 = RandomForestClassifier(n_estimators=200, min_samples_split =2, min_samples_leaf = 2, max_features='auto', max_depth=None, bootstrap='True')\n",
    "rf2 = rf2.fit(X_train_minmax, encoded_y_train)\n",
    "score = rf2.score(X_test_minmax, encoded_y_test)\n",
    "\n",
    "print(f\"Random Forest Testing Score: {score}\")"
   ]
  },
  {
   "cell_type": "markdown",
   "metadata": {},
   "source": [
    "### Save the Model"
   ]
  },
  {
   "cell_type": "code",
   "execution_count": 32,
   "metadata": {},
   "outputs": [
    {
     "data": {
      "text/plain": [
       "['Models/lmstein_rf.sav']"
      ]
     },
     "execution_count": 32,
     "metadata": {},
     "output_type": "execute_result"
    }
   ],
   "source": [
    "import joblib\n",
    "filename = 'Models/lmstein_rf.sav'\n",
    "joblib.dump(\"lmstein\", filename)"
   ]
  },
  {
   "cell_type": "markdown",
   "metadata": {},
   "source": [
    "# kNN Model\n",
    "------"
   ]
  },
  {
   "cell_type": "code",
   "execution_count": 33,
   "metadata": {
    "scrolled": true
   },
   "outputs": [
    {
     "name": "stdout",
     "output_type": "stream",
     "text": [
      "k: 1, Train/Test Score: 1.000/0.795\n",
      "k: 3, Train/Test Score: 0.891/0.791\n",
      "k: 5, Train/Test Score: 0.864/0.789\n",
      "k: 7, Train/Test Score: 0.846/0.791\n",
      "k: 9, Train/Test Score: 0.833/0.797\n",
      "k: 11, Train/Test Score: 0.828/0.796\n",
      "k: 13, Train/Test Score: 0.829/0.798\n",
      "k: 15, Train/Test Score: 0.824/0.802\n",
      "k: 17, Train/Test Score: 0.824/0.793\n",
      "k: 19, Train/Test Score: 0.819/0.788\n"
     ]
    }
   ],
   "source": [
    "import matplotlib.pyplot as plt\n",
    "from sklearn.neighbors import KNeighborsClassifier\n",
    "\n",
    "# Identify optimal k value\n",
    "train_scores = []\n",
    "test_scores = []\n",
    "for k in range(1, 20, 2):\n",
    "    knn = KNeighborsClassifier(n_neighbors=k)\n",
    "    knn.fit(X_train_minmax, y_train)\n",
    "    train_score = knn.score(X_train_minmax, y_train)\n",
    "    test_score = knn.score(X_test_minmax, y_test)\n",
    "    train_scores.append(train_score)\n",
    "    test_scores.append(test_score)\n",
    "    print(f\"k: {k}, Train/Test Score: {train_score:.3f}/{test_score:.3f}\")"
   ]
  },
  {
   "cell_type": "code",
   "execution_count": 34,
   "metadata": {},
   "outputs": [
    {
     "data": {
      "image/png": "[encoded data removed]",
      "text/plain": [
       "<Figure size 432x288 with 1 Axes>"
      ]
     },
     "metadata": {
      "needs_background": "light"
     },
     "output_type": "display_data"
    }
   ],
   "source": [
    "#Plot k values\n",
    "plt.plot(range(1, 20, 2), train_scores, marker='o')\n",
    "plt.plot(range(1, 20, 2), test_scores, marker=\"x\")\n",
    "plt.xlabel(\"k neighbors\")\n",
    "plt.ylabel(\"Testing accuracy Score\")\n",
    "plt.show()"
   ]
  },
  {
   "cell_type": "code",
   "execution_count": 35,
   "metadata": {},
   "outputs": [
    {
     "name": "stdout",
     "output_type": "stream",
     "text": [
      "k=9 Test Acc: 0.797\n"
     ]
    }
   ],
   "source": [
    "# Use optimal k value to run kNN and score\n",
    "knn = KNeighborsClassifier(n_neighbors=9)\n",
    "knn.fit(X_train_minmax, y_train)\n",
    "print('k=9 Test Acc: %.3f' % knn.score(X_test_minmax, y_test))"
   ]
  },
  {
   "cell_type": "markdown",
   "metadata": {},
   "source": [
    "## Hypertune the Model"
   ]
  },
  {
   "cell_type": "code",
   "execution_count": 36,
   "metadata": {
    "scrolled": true
   },
   "outputs": [
    {
     "data": {
      "text/plain": [
       "dict_keys(['algorithm', 'leaf_size', 'metric', 'metric_params', 'n_jobs', 'n_neighbors', 'p', 'weights'])"
      ]
     },
     "execution_count": 36,
     "metadata": {},
     "output_type": "execute_result"
    }
   ],
   "source": [
    "knn.get_params().keys()"
   ]
  },
  {
   "cell_type": "code",
   "execution_count": 37,
   "metadata": {
    "scrolled": true
   },
   "outputs": [
    {
     "name": "stdout",
     "output_type": "stream",
     "text": [
      "Fitting 3 folds for each of 24 candidates, totalling 72 fits\n"
     ]
    },
    {
     "name": "stderr",
     "output_type": "stream",
     "text": [
      "[Parallel(n_jobs=-1)]: Using backend LokyBackend with 8 concurrent workers.\n",
      "[Parallel(n_jobs=-1)]: Done  34 tasks      | elapsed:    1.2s\n",
      "[Parallel(n_jobs=-1)]: Done  72 out of  72 | elapsed:    2.0s finished\n"
     ]
    }
   ],
   "source": [
    "from sklearn.model_selection import GridSearchCV\n",
    "grid_params = {\n",
    "    'n_neighbors': [3,5,7,9,11,19],\n",
    "    'weights': ['uniform', 'distance'],\n",
    "    'metric': ['euclidean', 'manhattan']\n",
    "}\n",
    "\n",
    "gs = GridSearchCV(KNeighborsClassifier(),grid_params, verbose = 1, cv=3,n_jobs=-1)\n",
    "gs_results = gs.fit(X_train_minmax, y_train)"
   ]
  },
  {
   "cell_type": "code",
   "execution_count": 38,
   "metadata": {},
   "outputs": [
    {
     "name": "stdout",
     "output_type": "stream",
     "text": [
      "Best Parameters: {'metric': 'manhattan', 'n_neighbors': 9, 'weights': 'distance'}\n",
      "Best SVG score: 0.8020216197146509\n"
     ]
    }
   ],
   "source": [
    "print(f\"Best Parameters: {gs_results.best_params_}\")\n",
    "print(f\"Best SVG score: {gs_results.best_score_}\")"
   ]
  },
  {
   "cell_type": "markdown",
   "metadata": {},
   "source": [
    "### Create Hypertuned Model and Fit"
   ]
  },
  {
   "cell_type": "code",
   "execution_count": 39,
   "metadata": {},
   "outputs": [
    {
     "name": "stdout",
     "output_type": "stream",
     "text": [
      "Hypertuned kNN Test Acc: 0.810\n"
     ]
    }
   ],
   "source": [
    "knn2 = KNeighborsClassifier(metric='manhattan', weights='distance', n_neighbors=9)\n",
    "knn2.fit(X_train_minmax, y_train)\n",
    "print('Hypertuned kNN Test Acc: %.3f' % knn2.score(X_test_minmax, y_test))"
   ]
  },
  {
   "cell_type": "markdown",
   "metadata": {},
   "source": [
    "### Save the Model"
   ]
  },
  {
   "cell_type": "code",
   "execution_count": 40,
   "metadata": {},
   "outputs": [
    {
     "data": {
      "text/plain": [
       "['Models/lmstein_knn.sav']"
      ]
     },
     "execution_count": 40,
     "metadata": {},
     "output_type": "execute_result"
    }
   ],
   "source": [
    "import joblib\n",
    "filename = 'Models/lmstein_knn.sav'\n",
    "joblib.dump(\"lmstein\", filename)"
   ]
  },
  {
   "cell_type": "markdown",
   "metadata": {},
   "source": [
    "# Neural Networks\n",
    "-----"
   ]
  },
  {
   "cell_type": "markdown",
   "metadata": {},
   "source": [
    "## Normal Neural Network"
   ]
  },
  {
   "cell_type": "code",
   "execution_count": 41,
   "metadata": {},
   "outputs": [
    {
     "name": "stdout",
     "output_type": "stream",
     "text": [
      "Model: \"sequential\"\n",
      "_________________________________________________________________\n",
      "Layer (type)                 Output Shape              Param #   \n",
      "=================================================================\n",
      "dense (Dense)                (None, 4)                 76        \n",
      "_________________________________________________________________\n",
      "dense_1 (Dense)              (None, 3)                 15        \n",
      "=================================================================\n",
      "Total params: 91\n",
      "Trainable params: 91\n",
      "Non-trainable params: 0\n",
      "_________________________________________________________________\n"
     ]
    }
   ],
   "source": [
    "from tensorflow.keras.models import Sequential\n",
    "from tensorflow.keras.layers import Dense\n",
    "\n",
    "#Define number of inputs (features) and add to model\n",
    "model=Sequential()\n",
    "number_inputs = 18\n",
    "number_hidden_nodes = 4\n",
    "model.add(Dense(units=number_hidden_nodes,activation='relu', input_dim=number_inputs))\n",
    "\n",
    "#Define number of output classes and add to model\n",
    "number_classes = 3\n",
    "model.add(Dense(units=number_classes, activation='softmax'))\n",
    "\n",
    "model.summary()"
   ]
  },
  {
   "cell_type": "code",
   "execution_count": 42,
   "metadata": {},
   "outputs": [],
   "source": [
    "#Compile the model\n",
    "model.compile(optimizer='adam',\n",
    "              loss='categorical_crossentropy',\n",
    "              metrics=['accuracy'])"
   ]
  },
  {
   "cell_type": "code",
   "execution_count": 43,
   "metadata": {
    "scrolled": true
   },
   "outputs": [
    {
     "name": "stdout",
     "output_type": "stream",
     "text": [
      "Train on 5243 samples\n",
      "Epoch 1/100\n",
      "5243/5243 - 1s - loss: 1.0455 - accuracy: 0.3221\n",
      "Epoch 2/100\n",
      "5243/5243 - 0s - loss: 0.8896 - accuracy: 0.5056\n",
      "Epoch 3/100\n",
      "5243/5243 - 0s - loss: 0.7419 - accuracy: 0.5295\n",
      "Epoch 4/100\n",
      "5243/5243 - 0s - loss: 0.6402 - accuracy: 0.7009\n",
      "Epoch 5/100\n",
      "5243/5243 - 0s - loss: 0.5757 - accuracy: 0.7370\n",
      "Epoch 6/100\n",
      "5243/5243 - 0s - loss: 0.5317 - accuracy: 0.7442\n",
      "Epoch 7/100\n",
      "5243/5243 - 0s - loss: 0.5015 - accuracy: 0.7448\n",
      "Epoch 8/100\n",
      "5243/5243 - 0s - loss: 0.4798 - accuracy: 0.7456\n",
      "Epoch 9/100\n",
      "5243/5243 - 0s - loss: 0.4638 - accuracy: 0.7461\n",
      "Epoch 10/100\n",
      "5243/5243 - 0s - loss: 0.4515 - accuracy: 0.7463\n",
      "Epoch 11/100\n",
      "5243/5243 - 0s - loss: 0.4417 - accuracy: 0.7475\n",
      "Epoch 12/100\n",
      "5243/5243 - 0s - loss: 0.4338 - accuracy: 0.7480\n",
      "Epoch 13/100\n",
      "5243/5243 - 0s - loss: 0.4273 - accuracy: 0.7496\n",
      "Epoch 14/100\n",
      "5243/5243 - 0s - loss: 0.4218 - accuracy: 0.7700\n",
      "Epoch 15/100\n",
      "5243/5243 - 0s - loss: 0.4169 - accuracy: 0.7778\n",
      "Epoch 16/100\n",
      "5243/5243 - 0s - loss: 0.4125 - accuracy: 0.7974\n",
      "Epoch 17/100\n",
      "5243/5243 - 0s - loss: 0.4087 - accuracy: 0.7946\n",
      "Epoch 18/100\n",
      "5243/5243 - 0s - loss: 0.4052 - accuracy: 0.7955\n",
      "Epoch 19/100\n",
      "5243/5243 - 0s - loss: 0.4020 - accuracy: 0.7978\n",
      "Epoch 20/100\n",
      "5243/5243 - 0s - loss: 0.3990 - accuracy: 0.7950\n",
      "Epoch 21/100\n",
      "5243/5243 - 0s - loss: 0.3961 - accuracy: 0.7931\n",
      "Epoch 22/100\n",
      "5243/5243 - 0s - loss: 0.3934 - accuracy: 0.7929\n",
      "Epoch 23/100\n",
      "5243/5243 - 0s - loss: 0.3910 - accuracy: 0.7959\n",
      "Epoch 24/100\n",
      "5243/5243 - 0s - loss: 0.3888 - accuracy: 0.7944\n",
      "Epoch 25/100\n",
      "5243/5243 - 0s - loss: 0.3866 - accuracy: 0.7973\n",
      "Epoch 26/100\n",
      "5243/5243 - 0s - loss: 0.3845 - accuracy: 0.7948\n",
      "Epoch 27/100\n",
      "5243/5243 - 0s - loss: 0.3826 - accuracy: 0.7978\n",
      "Epoch 28/100\n",
      "5243/5243 - 0s - loss: 0.3809 - accuracy: 0.7925\n",
      "Epoch 29/100\n",
      "5243/5243 - 0s - loss: 0.3790 - accuracy: 0.7976\n",
      "Epoch 30/100\n",
      "5243/5243 - 0s - loss: 0.3775 - accuracy: 0.7982\n",
      "Epoch 31/100\n",
      "5243/5243 - 0s - loss: 0.3760 - accuracy: 0.8030\n",
      "Epoch 32/100\n",
      "5243/5243 - 0s - loss: 0.3746 - accuracy: 0.8011\n",
      "Epoch 33/100\n",
      "5243/5243 - 0s - loss: 0.3735 - accuracy: 0.8011\n",
      "Epoch 34/100\n",
      "5243/5243 - 0s - loss: 0.3720 - accuracy: 0.8003\n",
      "Epoch 35/100\n",
      "5243/5243 - 0s - loss: 0.3708 - accuracy: 0.8030\n",
      "Epoch 36/100\n",
      "5243/5243 - 0s - loss: 0.3696 - accuracy: 0.8026\n",
      "Epoch 37/100\n",
      "5243/5243 - 0s - loss: 0.3676 - accuracy: 0.8035\n",
      "Epoch 38/100\n",
      "5243/5243 - 0s - loss: 0.3667 - accuracy: 0.8047\n",
      "Epoch 39/100\n",
      "5243/5243 - 0s - loss: 0.3658 - accuracy: 0.8051\n",
      "Epoch 40/100\n",
      "5243/5243 - 0s - loss: 0.3649 - accuracy: 0.8079\n",
      "Epoch 41/100\n",
      "5243/5243 - 0s - loss: 0.3639 - accuracy: 0.8076\n",
      "Epoch 42/100\n",
      "5243/5243 - 0s - loss: 0.3630 - accuracy: 0.8091\n",
      "Epoch 43/100\n",
      "5243/5243 - 0s - loss: 0.3624 - accuracy: 0.8104\n",
      "Epoch 44/100\n",
      "5243/5243 - 0s - loss: 0.3614 - accuracy: 0.8114\n",
      "Epoch 45/100\n",
      "5243/5243 - 0s - loss: 0.3611 - accuracy: 0.8116\n",
      "Epoch 46/100\n",
      "5243/5243 - 0s - loss: 0.3602 - accuracy: 0.8129\n",
      "Epoch 47/100\n",
      "5243/5243 - 0s - loss: 0.3596 - accuracy: 0.8137\n",
      "Epoch 48/100\n",
      "5243/5243 - 0s - loss: 0.3594 - accuracy: 0.8144\n",
      "Epoch 49/100\n",
      "5243/5243 - 0s - loss: 0.3592 - accuracy: 0.8156\n",
      "Epoch 50/100\n",
      "5243/5243 - 0s - loss: 0.3584 - accuracy: 0.8121\n",
      "Epoch 51/100\n",
      "5243/5243 - 0s - loss: 0.3577 - accuracy: 0.8150\n",
      "Epoch 52/100\n",
      "5243/5243 - 0s - loss: 0.3575 - accuracy: 0.8144\n",
      "Epoch 53/100\n",
      "5243/5243 - 0s - loss: 0.3571 - accuracy: 0.8133\n",
      "Epoch 54/100\n",
      "5243/5243 - 0s - loss: 0.3568 - accuracy: 0.8144\n",
      "Epoch 55/100\n",
      "5243/5243 - 0s - loss: 0.3561 - accuracy: 0.8152\n",
      "Epoch 56/100\n",
      "5243/5243 - 0s - loss: 0.3559 - accuracy: 0.8156\n",
      "Epoch 57/100\n",
      "5243/5243 - 0s - loss: 0.3552 - accuracy: 0.8129\n",
      "Epoch 58/100\n",
      "5243/5243 - 0s - loss: 0.3553 - accuracy: 0.8152\n",
      "Epoch 59/100\n",
      "5243/5243 - 0s - loss: 0.3547 - accuracy: 0.8182\n",
      "Epoch 60/100\n",
      "5243/5243 - 0s - loss: 0.3545 - accuracy: 0.8152\n",
      "Epoch 61/100\n",
      "5243/5243 - 0s - loss: 0.3542 - accuracy: 0.8184\n",
      "Epoch 62/100\n",
      "5243/5243 - 0s - loss: 0.3537 - accuracy: 0.8173\n",
      "Epoch 63/100\n",
      "5243/5243 - 0s - loss: 0.3535 - accuracy: 0.8173\n",
      "Epoch 64/100\n",
      "5243/5243 - 0s - loss: 0.3535 - accuracy: 0.8146\n",
      "Epoch 65/100\n",
      "5243/5243 - 0s - loss: 0.3531 - accuracy: 0.8194\n",
      "Epoch 66/100\n",
      "5243/5243 - 0s - loss: 0.3526 - accuracy: 0.8184\n",
      "Epoch 67/100\n",
      "5243/5243 - 0s - loss: 0.3529 - accuracy: 0.8177\n",
      "Epoch 68/100\n",
      "5243/5243 - 0s - loss: 0.3527 - accuracy: 0.8190\n",
      "Epoch 69/100\n",
      "5243/5243 - 0s - loss: 0.3523 - accuracy: 0.8180\n",
      "Epoch 70/100\n",
      "5243/5243 - 0s - loss: 0.3521 - accuracy: 0.8161\n",
      "Epoch 71/100\n",
      "5243/5243 - 0s - loss: 0.3521 - accuracy: 0.8180\n",
      "Epoch 72/100\n",
      "5243/5243 - 0s - loss: 0.3516 - accuracy: 0.8192\n",
      "Epoch 73/100\n",
      "5243/5243 - 0s - loss: 0.3513 - accuracy: 0.8179\n",
      "Epoch 74/100\n",
      "5243/5243 - 0s - loss: 0.3513 - accuracy: 0.8182\n",
      "Epoch 75/100\n",
      "5243/5243 - 0s - loss: 0.3513 - accuracy: 0.8180\n",
      "Epoch 76/100\n",
      "5243/5243 - 0s - loss: 0.3510 - accuracy: 0.8236\n",
      "Epoch 77/100\n",
      "5243/5243 - 0s - loss: 0.3509 - accuracy: 0.8200\n",
      "Epoch 78/100\n",
      "5243/5243 - 0s - loss: 0.3506 - accuracy: 0.8169\n",
      "Epoch 79/100\n",
      "5243/5243 - 0s - loss: 0.3500 - accuracy: 0.8194\n",
      "Epoch 80/100\n",
      "5243/5243 - 0s - loss: 0.3506 - accuracy: 0.8158\n",
      "Epoch 81/100\n",
      "5243/5243 - 0s - loss: 0.3504 - accuracy: 0.8177\n",
      "Epoch 82/100\n",
      "5243/5243 - 0s - loss: 0.3501 - accuracy: 0.8169\n",
      "Epoch 83/100\n",
      "5243/5243 - 0s - loss: 0.3501 - accuracy: 0.8196\n",
      "Epoch 84/100\n",
      "5243/5243 - 0s - loss: 0.3495 - accuracy: 0.8182\n",
      "Epoch 85/100\n",
      "5243/5243 - 0s - loss: 0.3503 - accuracy: 0.8201\n",
      "Epoch 86/100\n",
      "5243/5243 - 0s - loss: 0.3498 - accuracy: 0.8173\n",
      "Epoch 87/100\n",
      "5243/5243 - 0s - loss: 0.3490 - accuracy: 0.8211\n",
      "Epoch 88/100\n",
      "5243/5243 - 0s - loss: 0.3495 - accuracy: 0.8194\n",
      "Epoch 89/100\n",
      "5243/5243 - 0s - loss: 0.3490 - accuracy: 0.8194\n",
      "Epoch 90/100\n",
      "5243/5243 - 0s - loss: 0.3490 - accuracy: 0.8198\n",
      "Epoch 91/100\n",
      "5243/5243 - 0s - loss: 0.3489 - accuracy: 0.8215\n",
      "Epoch 92/100\n",
      "5243/5243 - 0s - loss: 0.3486 - accuracy: 0.8222\n",
      "Epoch 93/100\n",
      "5243/5243 - 0s - loss: 0.3492 - accuracy: 0.8201\n",
      "Epoch 94/100\n",
      "5243/5243 - 0s - loss: 0.3489 - accuracy: 0.8205\n",
      "Epoch 95/100\n",
      "5243/5243 - 0s - loss: 0.3486 - accuracy: 0.8205\n",
      "Epoch 96/100\n",
      "5243/5243 - 0s - loss: 0.3484 - accuracy: 0.8194\n",
      "Epoch 97/100\n",
      "5243/5243 - 0s - loss: 0.3485 - accuracy: 0.8224\n",
      "Epoch 98/100\n",
      "5243/5243 - 0s - loss: 0.3483 - accuracy: 0.8230\n",
      "Epoch 99/100\n",
      "5243/5243 - 0s - loss: 0.3482 - accuracy: 0.8222\n",
      "Epoch 100/100\n",
      "5243/5243 - 0s - loss: 0.3480 - accuracy: 0.8186\n"
     ]
    },
    {
     "data": {
      "text/plain": [
       "<tensorflow.python.keras.callbacks.History at 0x7fa8bf1662e8>"
      ]
     },
     "execution_count": 43,
     "metadata": {},
     "output_type": "execute_result"
    }
   ],
   "source": [
    "#Fit the model to training dataset\n",
    "model.fit(\n",
    "    X_train_minmax,\n",
    "    y_train_categorical,\n",
    "    epochs=100,\n",
    "    shuffle=True,\n",
    "    verbose=2\n",
    ")"
   ]
  },
  {
   "cell_type": "code",
   "execution_count": 44,
   "metadata": {},
   "outputs": [
    {
     "name": "stdout",
     "output_type": "stream",
     "text": [
      "1748/1 - 0s - loss: 0.3559 - accuracy: 0.8049\n",
      "Loss: 0.37313833539491387, Accuracy: 0.8049198985099792\n"
     ]
    }
   ],
   "source": [
    "#Quantify the model\n",
    "model_loss, model_accuracy = model.evaluate(\n",
    "    X_test_minmax, y_test_categorical, verbose=2)\n",
    "print(f\"Loss: {model_loss}, Accuracy: {model_accuracy}\")"
   ]
  },
  {
   "cell_type": "markdown",
   "metadata": {},
   "source": [
    "## Deep Learning "
   ]
  },
  {
   "cell_type": "code",
   "execution_count": 45,
   "metadata": {},
   "outputs": [
    {
     "name": "stdout",
     "output_type": "stream",
     "text": [
      "Model: \"sequential_1\"\n",
      "_________________________________________________________________\n",
      "Layer (type)                 Output Shape              Param #   \n",
      "=================================================================\n",
      "dense_2 (Dense)              (None, 6)                 114       \n",
      "_________________________________________________________________\n",
      "dense_3 (Dense)              (None, 6)                 42        \n",
      "_________________________________________________________________\n",
      "dense_4 (Dense)              (None, 3)                 21        \n",
      "=================================================================\n",
      "Total params: 177\n",
      "Trainable params: 177\n",
      "Non-trainable params: 0\n",
      "_________________________________________________________________\n"
     ]
    }
   ],
   "source": [
    "#Creat the model\n",
    "deep_model = Sequential()\n",
    "deep_model.add(Dense(units=6, activation='relu', input_dim=number_inputs))\n",
    "deep_model.add(Dense(units=6, activation='relu'))\n",
    "deep_model.add(Dense(units=number_classes, activation='softmax'))\n",
    "deep_model.summary()"
   ]
  },
  {
   "cell_type": "code",
   "execution_count": 46,
   "metadata": {
    "scrolled": true
   },
   "outputs": [
    {
     "name": "stdout",
     "output_type": "stream",
     "text": [
      "Train on 5243 samples\n",
      "Epoch 1/100\n",
      "5243/5243 - 1s - loss: 0.9560 - accuracy: 0.4566\n",
      "Epoch 2/100\n",
      "5243/5243 - 0s - loss: 0.6651 - accuracy: 0.6592\n",
      "Epoch 3/100\n",
      "5243/5243 - 0s - loss: 0.5166 - accuracy: 0.7521\n",
      "Epoch 4/100\n",
      "5243/5243 - 0s - loss: 0.4478 - accuracy: 0.7627\n",
      "Epoch 5/100\n",
      "5243/5243 - 0s - loss: 0.4121 - accuracy: 0.7784\n",
      "Epoch 6/100\n",
      "5243/5243 - 0s - loss: 0.3980 - accuracy: 0.7858\n",
      "Epoch 7/100\n",
      "5243/5243 - 0s - loss: 0.3904 - accuracy: 0.7854\n",
      "Epoch 8/100\n",
      "5243/5243 - 0s - loss: 0.3861 - accuracy: 0.7892\n",
      "Epoch 9/100\n",
      "5243/5243 - 0s - loss: 0.3827 - accuracy: 0.7862\n",
      "Epoch 10/100\n",
      "5243/5243 - 0s - loss: 0.3801 - accuracy: 0.7879\n",
      "Epoch 11/100\n",
      "5243/5243 - 0s - loss: 0.3784 - accuracy: 0.7915\n",
      "Epoch 12/100\n",
      "5243/5243 - 0s - loss: 0.3767 - accuracy: 0.7900\n",
      "Epoch 13/100\n",
      "5243/5243 - 0s - loss: 0.3753 - accuracy: 0.7864\n",
      "Epoch 14/100\n",
      "5243/5243 - 0s - loss: 0.3741 - accuracy: 0.7910\n",
      "Epoch 15/100\n",
      "5243/5243 - 0s - loss: 0.3733 - accuracy: 0.7883\n",
      "Epoch 16/100\n",
      "5243/5243 - 0s - loss: 0.3725 - accuracy: 0.7854\n",
      "Epoch 17/100\n",
      "5243/5243 - 0s - loss: 0.3710 - accuracy: 0.7923\n",
      "Epoch 18/100\n",
      "5243/5243 - 0s - loss: 0.3703 - accuracy: 0.7883\n",
      "Epoch 19/100\n",
      "5243/5243 - 0s - loss: 0.3697 - accuracy: 0.7967\n",
      "Epoch 20/100\n",
      "5243/5243 - 0s - loss: 0.3695 - accuracy: 0.7934\n",
      "Epoch 21/100\n",
      "5243/5243 - 0s - loss: 0.3679 - accuracy: 0.7974\n",
      "Epoch 22/100\n",
      "5243/5243 - 0s - loss: 0.3679 - accuracy: 0.7950\n",
      "Epoch 23/100\n",
      "5243/5243 - 0s - loss: 0.3671 - accuracy: 0.7938\n",
      "Epoch 24/100\n",
      "5243/5243 - 0s - loss: 0.3668 - accuracy: 0.7946\n",
      "Epoch 25/100\n",
      "5243/5243 - 0s - loss: 0.3661 - accuracy: 0.7940\n",
      "Epoch 26/100\n",
      "5243/5243 - 0s - loss: 0.3653 - accuracy: 0.7953\n",
      "Epoch 27/100\n",
      "5243/5243 - 0s - loss: 0.3652 - accuracy: 0.8003\n",
      "Epoch 28/100\n",
      "5243/5243 - 0s - loss: 0.3647 - accuracy: 0.7973\n",
      "Epoch 29/100\n",
      "5243/5243 - 0s - loss: 0.3642 - accuracy: 0.8030\n",
      "Epoch 30/100\n",
      "5243/5243 - 0s - loss: 0.3635 - accuracy: 0.7995\n",
      "Epoch 31/100\n",
      "5243/5243 - 0s - loss: 0.3632 - accuracy: 0.8037\n",
      "Epoch 32/100\n",
      "5243/5243 - 0s - loss: 0.3626 - accuracy: 0.8043\n",
      "Epoch 33/100\n",
      "5243/5243 - 0s - loss: 0.3615 - accuracy: 0.8030\n",
      "Epoch 34/100\n",
      "5243/5243 - 0s - loss: 0.3622 - accuracy: 0.8030\n",
      "Epoch 35/100\n",
      "5243/5243 - 0s - loss: 0.3609 - accuracy: 0.8060\n",
      "Epoch 36/100\n",
      "5243/5243 - 0s - loss: 0.3611 - accuracy: 0.8079\n",
      "Epoch 37/100\n",
      "5243/5243 - 0s - loss: 0.3598 - accuracy: 0.8049\n",
      "Epoch 38/100\n",
      "5243/5243 - 0s - loss: 0.3591 - accuracy: 0.8085\n",
      "Epoch 39/100\n",
      "5243/5243 - 0s - loss: 0.3584 - accuracy: 0.8117\n",
      "Epoch 40/100\n",
      "5243/5243 - 0s - loss: 0.3580 - accuracy: 0.8070\n",
      "Epoch 41/100\n",
      "5243/5243 - 0s - loss: 0.3578 - accuracy: 0.8142\n",
      "Epoch 42/100\n",
      "5243/5243 - 0s - loss: 0.3571 - accuracy: 0.8087\n",
      "Epoch 43/100\n",
      "5243/5243 - 0s - loss: 0.3568 - accuracy: 0.8102\n",
      "Epoch 44/100\n",
      "5243/5243 - 0s - loss: 0.3557 - accuracy: 0.8119\n",
      "Epoch 45/100\n",
      "5243/5243 - 0s - loss: 0.3564 - accuracy: 0.8074\n",
      "Epoch 46/100\n",
      "5243/5243 - 0s - loss: 0.3554 - accuracy: 0.8114\n",
      "Epoch 47/100\n",
      "5243/5243 - 0s - loss: 0.3543 - accuracy: 0.8179\n",
      "Epoch 48/100\n",
      "5243/5243 - 0s - loss: 0.3536 - accuracy: 0.8129\n",
      "Epoch 49/100\n",
      "5243/5243 - 0s - loss: 0.3538 - accuracy: 0.8135\n",
      "Epoch 50/100\n",
      "5243/5243 - 0s - loss: 0.3528 - accuracy: 0.8150\n",
      "Epoch 51/100\n",
      "5243/5243 - 0s - loss: 0.3535 - accuracy: 0.8167\n",
      "Epoch 52/100\n",
      "5243/5243 - 0s - loss: 0.3519 - accuracy: 0.8196\n",
      "Epoch 53/100\n",
      "5243/5243 - 0s - loss: 0.3527 - accuracy: 0.8159\n",
      "Epoch 54/100\n",
      "5243/5243 - 0s - loss: 0.3523 - accuracy: 0.8179\n",
      "Epoch 55/100\n",
      "5243/5243 - 0s - loss: 0.3515 - accuracy: 0.8182\n",
      "Epoch 56/100\n",
      "5243/5243 - 0s - loss: 0.3511 - accuracy: 0.8201\n",
      "Epoch 57/100\n",
      "5243/5243 - 0s - loss: 0.3509 - accuracy: 0.8190\n",
      "Epoch 58/100\n",
      "5243/5243 - 0s - loss: 0.3508 - accuracy: 0.8211\n",
      "Epoch 59/100\n",
      "5243/5243 - 0s - loss: 0.3500 - accuracy: 0.8190\n",
      "Epoch 60/100\n",
      "5243/5243 - 0s - loss: 0.3498 - accuracy: 0.8207\n",
      "Epoch 61/100\n",
      "5243/5243 - 0s - loss: 0.3499 - accuracy: 0.8188\n",
      "Epoch 62/100\n",
      "5243/5243 - 0s - loss: 0.3492 - accuracy: 0.8184\n",
      "Epoch 63/100\n",
      "5243/5243 - 0s - loss: 0.3492 - accuracy: 0.8205\n",
      "Epoch 64/100\n",
      "5243/5243 - 0s - loss: 0.3488 - accuracy: 0.8200\n",
      "Epoch 65/100\n",
      "5243/5243 - 0s - loss: 0.3487 - accuracy: 0.8192\n",
      "Epoch 66/100\n",
      "5243/5243 - 0s - loss: 0.3488 - accuracy: 0.8203\n",
      "Epoch 67/100\n",
      "5243/5243 - 0s - loss: 0.3502 - accuracy: 0.8169\n",
      "Epoch 68/100\n",
      "5243/5243 - 0s - loss: 0.3479 - accuracy: 0.8186\n",
      "Epoch 69/100\n",
      "5243/5243 - 0s - loss: 0.3475 - accuracy: 0.8228\n",
      "Epoch 70/100\n",
      "5243/5243 - 0s - loss: 0.3474 - accuracy: 0.8228\n",
      "Epoch 71/100\n",
      "5243/5243 - 0s - loss: 0.3473 - accuracy: 0.8226\n",
      "Epoch 72/100\n",
      "5243/5243 - 0s - loss: 0.3472 - accuracy: 0.8243\n",
      "Epoch 73/100\n",
      "5243/5243 - 0s - loss: 0.3469 - accuracy: 0.8209\n",
      "Epoch 74/100\n",
      "5243/5243 - 0s - loss: 0.3472 - accuracy: 0.8236\n",
      "Epoch 75/100\n",
      "5243/5243 - 0s - loss: 0.3462 - accuracy: 0.8255\n",
      "Epoch 76/100\n",
      "5243/5243 - 0s - loss: 0.3465 - accuracy: 0.8238\n",
      "Epoch 77/100\n",
      "5243/5243 - 0s - loss: 0.3467 - accuracy: 0.8243\n",
      "Epoch 78/100\n",
      "5243/5243 - 0s - loss: 0.3455 - accuracy: 0.8257\n",
      "Epoch 79/100\n",
      "5243/5243 - 0s - loss: 0.3461 - accuracy: 0.8243\n",
      "Epoch 80/100\n",
      "5243/5243 - 0s - loss: 0.3453 - accuracy: 0.8255\n",
      "Epoch 81/100\n",
      "5243/5243 - 0s - loss: 0.3456 - accuracy: 0.8220\n",
      "Epoch 82/100\n",
      "5243/5243 - 0s - loss: 0.3445 - accuracy: 0.8293\n",
      "Epoch 83/100\n",
      "5243/5243 - 0s - loss: 0.3448 - accuracy: 0.8241\n",
      "Epoch 84/100\n",
      "5243/5243 - 0s - loss: 0.3448 - accuracy: 0.8264\n",
      "Epoch 85/100\n",
      "5243/5243 - 0s - loss: 0.3457 - accuracy: 0.8232\n",
      "Epoch 86/100\n",
      "5243/5243 - 0s - loss: 0.3441 - accuracy: 0.8262\n",
      "Epoch 87/100\n",
      "5243/5243 - 0s - loss: 0.3440 - accuracy: 0.8272\n",
      "Epoch 88/100\n",
      "5243/5243 - 0s - loss: 0.3447 - accuracy: 0.8224\n",
      "Epoch 89/100\n",
      "5243/5243 - 0s - loss: 0.3437 - accuracy: 0.8251\n",
      "Epoch 90/100\n",
      "5243/5243 - 0s - loss: 0.3435 - accuracy: 0.8272\n",
      "Epoch 91/100\n",
      "5243/5243 - 0s - loss: 0.3422 - accuracy: 0.8259\n",
      "Epoch 92/100\n",
      "5243/5243 - 0s - loss: 0.3431 - accuracy: 0.8280\n",
      "Epoch 93/100\n",
      "5243/5243 - 0s - loss: 0.3428 - accuracy: 0.8301\n",
      "Epoch 94/100\n",
      "5243/5243 - 0s - loss: 0.3435 - accuracy: 0.8222\n",
      "Epoch 95/100\n",
      "5243/5243 - 0s - loss: 0.3427 - accuracy: 0.8302\n",
      "Epoch 96/100\n",
      "5243/5243 - 0s - loss: 0.3423 - accuracy: 0.8287\n",
      "Epoch 97/100\n",
      "5243/5243 - 0s - loss: 0.3416 - accuracy: 0.8331\n",
      "Epoch 98/100\n",
      "5243/5243 - 0s - loss: 0.3413 - accuracy: 0.8322\n",
      "Epoch 99/100\n",
      "5243/5243 - 0s - loss: 0.3407 - accuracy: 0.8297\n",
      "Epoch 100/100\n",
      "5243/5243 - 0s - loss: 0.3414 - accuracy: 0.8247\n"
     ]
    },
    {
     "data": {
      "text/plain": [
       "<tensorflow.python.keras.callbacks.History at 0x7fa8bf8137f0>"
      ]
     },
     "execution_count": 46,
     "metadata": {},
     "output_type": "execute_result"
    }
   ],
   "source": [
    "deep_model.compile(optimizer='adam',\n",
    "                   loss='categorical_crossentropy',\n",
    "                   metrics=['accuracy'])\n",
    "\n",
    "deep_model.fit(\n",
    "    X_train_minmax,\n",
    "    y_train_categorical,\n",
    "    epochs=100,\n",
    "    shuffle=True,\n",
    "    verbose=2\n",
    ")"
   ]
  },
  {
   "cell_type": "code",
   "execution_count": 47,
   "metadata": {},
   "outputs": [
    {
     "name": "stdout",
     "output_type": "stream",
     "text": [
      "1748/1 - 0s - loss: 0.3475 - accuracy: 0.8169\n",
      "Deep Neural Network - Loss: 0.36368869228002954, Accuracy: 0.8169336318969727\n"
     ]
    }
   ],
   "source": [
    "model_loss, model_accuracy = deep_model.evaluate(X_test_minmax, y_test_categorical, verbose=2)\n",
    "print(f\"Deep Neural Network - Loss: {model_loss}, Accuracy: {model_accuracy}\")"
   ]
  }
 ],
 "metadata": {
  "kernel_info": {
   "name": "dev"
  },
  "kernelspec": {
   "display_name": "Python [conda env:PythonAdv] *",
   "language": "python",
   "name": "conda-env-PythonAdv-py"
  },
  "language_info": {
   "codemirror_mode": {
    "name": "ipython",
    "version": 3
   },
   "file_extension": ".py",
   "mimetype": "text/x-python",
   "name": "python",
   "nbconvert_exporter": "python",
   "pygments_lexer": "ipython3",
   "version": "3.6.10"
  },
  "nteract": {
   "version": "0.12.3"
  }
 },
 "nbformat": 4,
 "nbformat_minor": 2
}
